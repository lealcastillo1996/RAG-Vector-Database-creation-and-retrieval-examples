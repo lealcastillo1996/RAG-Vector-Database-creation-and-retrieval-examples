{
 "cells": [
  {
   "cell_type": "code",
   "execution_count": 9,
   "metadata": {},
   "outputs": [
    {
     "name": "stdout",
     "output_type": "stream",
     "text": [
      "zsh:1: command not found: from\n"
     ]
    },
    {
     "name": "stderr",
     "output_type": "stream",
     "text": [
      "huggingface/tokenizers: The current process just got forked, after parallelism has already been used. Disabling parallelism to avoid deadlocks...\n",
      "To disable this warning, you can either:\n",
      "\t- Avoid using `tokenizers` before the fork if possible\n",
      "\t- Explicitly set the environment variable TOKENIZERS_PARALLELISM=(true | false)\n",
      "huggingface/tokenizers: The current process just got forked, after parallelism has already been used. Disabling parallelism to avoid deadlocks...\n",
      "To disable this warning, you can either:\n",
      "\t- Avoid using `tokenizers` before the fork if possible\n",
      "\t- Explicitly set the environment variable TOKENIZERS_PARALLELISM=(true | false)\n"
     ]
    },
    {
     "name": "stdout",
     "output_type": "stream",
     "text": [
      "Requirement already satisfied: sentence_transformers in /Users/enriqueleal/.pyenv/versions/3.10.12/lib/python3.10/site-packages (2.4.0)\n",
      "Requirement already satisfied: numpy in /Users/enriqueleal/.pyenv/versions/3.10.12/lib/python3.10/site-packages (from sentence_transformers) (1.26.4)\n",
      "Requirement already satisfied: tqdm in /Users/enriqueleal/.pyenv/versions/3.10.12/lib/python3.10/site-packages (from sentence_transformers) (4.66.2)\n",
      "Requirement already satisfied: huggingface-hub>=0.15.1 in /Users/enriqueleal/.pyenv/versions/3.10.12/lib/python3.10/site-packages (from sentence_transformers) (0.20.3)\n",
      "Requirement already satisfied: torch>=1.11.0 in /Users/enriqueleal/.pyenv/versions/3.10.12/lib/python3.10/site-packages (from sentence_transformers) (2.2.1)\n",
      "Requirement already satisfied: transformers<5.0.0,>=4.32.0 in /Users/enriqueleal/.pyenv/versions/3.10.12/lib/python3.10/site-packages (from sentence_transformers) (4.38.1)\n",
      "Requirement already satisfied: scipy in /Users/enriqueleal/.pyenv/versions/3.10.12/lib/python3.10/site-packages (from sentence_transformers) (1.12.0)\n",
      "Requirement already satisfied: scikit-learn in /Users/enriqueleal/.pyenv/versions/3.10.12/lib/python3.10/site-packages (from sentence_transformers) (1.2.1)\n",
      "Requirement already satisfied: Pillow in /Users/enriqueleal/.pyenv/versions/3.10.12/lib/python3.10/site-packages (from sentence_transformers) (10.2.0)\n",
      "Requirement already satisfied: filelock in /Users/enriqueleal/.pyenv/versions/3.10.12/lib/python3.10/site-packages (from huggingface-hub>=0.15.1->sentence_transformers) (3.13.1)\n",
      "Requirement already satisfied: pyyaml>=5.1 in /Users/enriqueleal/.pyenv/versions/3.10.12/lib/python3.10/site-packages (from huggingface-hub>=0.15.1->sentence_transformers) (6.0.1)\n",
      "Requirement already satisfied: packaging>=20.9 in /Users/enriqueleal/.pyenv/versions/3.10.12/lib/python3.10/site-packages (from huggingface-hub>=0.15.1->sentence_transformers) (23.2)\n",
      "Requirement already satisfied: typing-extensions>=3.7.4.3 in /Users/enriqueleal/.pyenv/versions/3.10.12/lib/python3.10/site-packages (from huggingface-hub>=0.15.1->sentence_transformers) (4.9.0)\n",
      "Requirement already satisfied: fsspec>=2023.5.0 in /Users/enriqueleal/.pyenv/versions/3.10.12/lib/python3.10/site-packages (from huggingface-hub>=0.15.1->sentence_transformers) (2023.10.0)\n",
      "Requirement already satisfied: requests in /Users/enriqueleal/.pyenv/versions/3.10.12/lib/python3.10/site-packages (from huggingface-hub>=0.15.1->sentence_transformers) (2.31.0)\n",
      "Requirement already satisfied: jinja2 in /Users/enriqueleal/.pyenv/versions/3.10.12/lib/python3.10/site-packages (from torch>=1.11.0->sentence_transformers) (3.1.3)\n",
      "Requirement already satisfied: networkx in /Users/enriqueleal/.pyenv/versions/3.10.12/lib/python3.10/site-packages (from torch>=1.11.0->sentence_transformers) (3.2.1)\n",
      "Requirement already satisfied: sympy in /Users/enriqueleal/.pyenv/versions/3.10.12/lib/python3.10/site-packages (from torch>=1.11.0->sentence_transformers) (1.12)\n",
      "Requirement already satisfied: tokenizers<0.19,>=0.14 in /Users/enriqueleal/.pyenv/versions/3.10.12/lib/python3.10/site-packages (from transformers<5.0.0,>=4.32.0->sentence_transformers) (0.15.2)\n",
      "Requirement already satisfied: regex!=2019.12.17 in /Users/enriqueleal/.pyenv/versions/3.10.12/lib/python3.10/site-packages (from transformers<5.0.0,>=4.32.0->sentence_transformers) (2023.12.25)\n",
      "Requirement already satisfied: safetensors>=0.4.1 in /Users/enriqueleal/.pyenv/versions/3.10.12/lib/python3.10/site-packages (from transformers<5.0.0,>=4.32.0->sentence_transformers) (0.4.2)\n",
      "Requirement already satisfied: threadpoolctl>=2.0.0 in /Users/enriqueleal/.pyenv/versions/3.10.12/lib/python3.10/site-packages (from scikit-learn->sentence_transformers) (3.3.0)\n",
      "Requirement already satisfied: joblib>=1.1.1 in /Users/enriqueleal/.pyenv/versions/3.10.12/lib/python3.10/site-packages (from scikit-learn->sentence_transformers) (1.3.2)\n",
      "Requirement already satisfied: MarkupSafe>=2.0 in /Users/enriqueleal/.pyenv/versions/3.10.12/lib/python3.10/site-packages (from jinja2->torch>=1.11.0->sentence_transformers) (2.1.5)\n",
      "Requirement already satisfied: charset-normalizer<4,>=2 in /Users/enriqueleal/.pyenv/versions/3.10.12/lib/python3.10/site-packages (from requests->huggingface-hub>=0.15.1->sentence_transformers) (3.3.2)\n",
      "Requirement already satisfied: urllib3<3,>=1.21.1 in /Users/enriqueleal/.pyenv/versions/3.10.12/lib/python3.10/site-packages (from requests->huggingface-hub>=0.15.1->sentence_transformers) (2.2.1)\n",
      "Requirement already satisfied: certifi>=2017.4.17 in /Users/enriqueleal/.pyenv/versions/3.10.12/lib/python3.10/site-packages (from requests->huggingface-hub>=0.15.1->sentence_transformers) (2024.2.2)\n",
      "Requirement already satisfied: idna<4,>=2.5 in /Users/enriqueleal/.pyenv/versions/3.10.12/lib/python3.10/site-packages (from requests->huggingface-hub>=0.15.1->sentence_transformers) (2.10)\n",
      "Requirement already satisfied: mpmath>=0.19 in /Users/enriqueleal/.pyenv/versions/3.10.12/lib/python3.10/site-packages (from sympy->torch>=1.11.0->sentence_transformers) (1.3.0)\n",
      "\n",
      "\u001b[1m[\u001b[0m\u001b[34;49mnotice\u001b[0m\u001b[1;39;49m]\u001b[0m\u001b[39;49m A new release of pip is available: \u001b[0m\u001b[31;49m23.0.1\u001b[0m\u001b[39;49m -> \u001b[0m\u001b[32;49m24.0\u001b[0m\n",
      "\u001b[1m[\u001b[0m\u001b[34;49mnotice\u001b[0m\u001b[1;39;49m]\u001b[0m\u001b[39;49m To update, run: \u001b[0m\u001b[32;49mpip install --upgrade pip\u001b[0m\n"
     ]
    }
   ],
   "source": [
    "#Install the required packages\n",
    "!from openai import OpenAI\n",
    "!pip install sentence_transformers"
   ]
  },
  {
   "cell_type": "code",
   "execution_count": 10,
   "metadata": {},
   "outputs": [],
   "source": [
    "#Required imports\n",
    "from openai import OpenAI\n",
    "from dotenv import load_dotenv\n",
    "import os\n",
    "from sentence_transformers import SentenceTransformer, util\n",
    "import torch\n",
    "load_dotenv()\n",
    "\n",
    "client = OpenAI(api_key=os.getenv(\"OPENAI_API_KEY\"))\n",
    "#Function to get OPENAI embeddings\n",
    "def get_embedding(text, model=\"text-embedding-3-small\"):\n",
    "   text = text.replace(\"\\n\", \" \")\n",
    "   return client.embeddings.create(input = [text], model=model).data[0].embedding\n",
    "\n",
    "\n",
    "if torch.backends.mps.is_available():\n",
    "    device = torch.device(\"mps\")\n",
    "else:\n",
    "    device = torch.device(\"cuda\" if torch.cuda.is_available() else \"cpu\")\n",
    "embedder = SentenceTransformer('all-MiniLM-L6-v2', device=device)\n",
    "#Function to get sentence embeddings\n",
    "def get_embedding_sentence(text):\n",
    "    return embedder.encode(text, convert_to_tensor=True)"
   ]
  },
  {
   "cell_type": "code",
   "execution_count": 12,
   "metadata": {},
   "outputs": [
    {
     "name": "stdout",
     "output_type": "stream",
     "text": [
      "OpenAI: 0.3345909118652344\n",
      "Sentence Transformers: 0.09618878364562988\n"
     ]
    }
   ],
   "source": [
    "import time\n",
    "text = \"I want a cola\"\n",
    "\n",
    "start = time.time()\n",
    "embedding = get_embedding(text)\n",
    "end = time.time()\n",
    "print(\"OpenAI:\", end-start)\n",
    "\n",
    "start = time.time()\n",
    "embedding = get_embedding_sentence(text)\n",
    "end = time.time()\n",
    "print(\"Sentence Transformers:\", end - start)"
   ]
  },
  {
   "cell_type": "code",
   "execution_count": null,
   "metadata": {},
   "outputs": [],
   "source": []
  }
 ],
 "metadata": {
  "kernelspec": {
   "display_name": "Python 3",
   "language": "python",
   "name": "python3"
  },
  "language_info": {
   "codemirror_mode": {
    "name": "ipython",
    "version": 3
   },
   "file_extension": ".py",
   "mimetype": "text/x-python",
   "name": "python",
   "nbconvert_exporter": "python",
   "pygments_lexer": "ipython3",
   "version": "3.10.12"
  }
 },
 "nbformat": 4,
 "nbformat_minor": 2
}
