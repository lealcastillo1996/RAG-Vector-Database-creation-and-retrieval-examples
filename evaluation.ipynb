{
 "cells": [
  {
   "cell_type": "markdown",
   "metadata": {},
   "source": [
    "\n",
    "# Evaluation notebook\n",
    "\n",
    "This notebook is used to evaluate the different RAG retrievers built for the Task1.\n",
    "\n",
    "Metrics to evaluate:\n",
    "\n",
    "Performance: (Score with GPT4)\n",
    "\n",
    "Time of computation : (Miliseconds [ms])\n",
    "\n"
   ]
  },
  {
   "cell_type": "code",
   "execution_count": null,
   "metadata": {},
   "outputs": [],
   "source": [
    "#Install the required packages\n",
    "! pip install langchain_community==0.0.13\n",
    "! pip install sentence_transformers\n",
    "! pip install torchvision\n",
    "! pip install plotly\n",
    "! pip install nbformat\n"
   ]
  },
  {
   "cell_type": "code",
   "execution_count": 8,
   "metadata": {},
   "outputs": [],
   "source": [
    "#Required imports\n",
    "from components.retrievers.Faiss_retriever import Faiss_retrieve\n",
    "from components.retrievers.qdrant_retriever import Qdrant_retrieve\n",
    "from components.retrievers.Weviate_retriever import Weviate_retrieve_keyword, Weviate_retrieve_vector, Weviate_retrieve_hybrid\n",
    "from components.retrievers.Native_retriever import Native_retrieve\n",
    "from components.retrievers.Native_retriever_Tfidf import Tfidf_retrieve\n",
    "from components.retrievers.Native_retriever_BM25 import bm25_retrieve\n",
    "from components.retrievers.Native_random import Random_retrieve\n",
    "from components.retrievers.Azure_retriever import Azure_retrieve_vector, Azure_retrieve_keyword, Azure_retrieve_hybrid\n",
    "from components.llm_call.gpt4_llm import call_llm_gpt4\n",
    "import time\n",
    "import pandas as pd\n",
    "import gc\n",
    "from langchain_community.embeddings import HuggingFaceEmbeddings\n",
    "from sentence_transformers import SentenceTransformer\n",
    "#GPU turn on if available\n",
    "import torch\n",
    "if torch.backends.mps.is_available():\n",
    "    device = torch.device(\"mps\")\n",
    "else:\n",
    "    device = torch.device(\"cuda\" if torch.cuda.is_available() else \"cpu\")\n",
    "embeddings = SentenceTransformer('all-MiniLM-L6-v2', device=device)\n",
    "directory_data = 'data/'   #Path to the pdf source\n",
    "embeddings_Faiss = HuggingFaceEmbeddings(model_name=\"all-MiniLM-L6-v2\")\n",
    "\n",
    "#Importing test list\n",
    "list_queries = [ 'Hi, do you have cola?','Hi I want to have a Fire Zinger Stacker without sauce and a cola', 'Give me a Veggie Tender, medium, with salad',\n",
    "'Give me an orange chocolate milkshake, medium', 'Give me the gluten free burger options', 'How many calories does the Colonel have?',\n",
    "'Can I get a Whopper?' ]\n",
    "\n",
    "#Prompt for evaluation\n",
    "def build_prompt(question,  context):\n",
    "    prompt = f\"\"\" \n",
    "    Your task is to determine if the given context contains the information about the products mentioned in the question.\n",
    "\n",
    "    Question: {question}\n",
    "\n",
    "    Context:  {context}\n",
    "\n",
    "    \n",
    "    Always output 1 or 0.\n",
    "    1 = contains information about the products mentioned in the question\n",
    "    0 = not contains information about the products mentioned in the question\n",
    "    \n",
    "    \"\"\"\n",
    "    return prompt"
   ]
  },
  {
   "cell_type": "code",
   "execution_count": 9,
   "metadata": {},
   "outputs": [],
   "source": [
    "#create a df with the queries\n",
    "df = pd.DataFrame(list_queries, columns = ['query'])\n",
    "k = 3\n",
    "\n",
    "#Functions to retrieve and time the retrieval for each method\n",
    "def retrieve_and_time_Faiss(retriever,path_db, embeddings, k, query, path_to_json):\n",
    "    start = time.time()\n",
    "    context = retriever(path_db,embeddings, k, query, path_to_json)\n",
    "    end = time.time()\n",
    "    #Evaluting the context\n",
    "    prompt = build_prompt(query, context)\n",
    "    result = call_llm_gpt4(prompt)\n",
    "    if result not in ['1', '0']:\n",
    "        result = '0'\n",
    "    result = int(result)\n",
    "    #Cleaning cache\n",
    "    torch.cuda.empty_cache()\n",
    "    # then collect the garbage\n",
    "    gc.collect()\n",
    "    torch.mps.empty_cache()\n",
    "    return context,  (end - start)*1000, result\n",
    "def retrieve_and_time_vector(retriever, embeddings, k, query):\n",
    "    start = time.time()\n",
    "    context = retriever(embeddings, k, query)\n",
    "    end = time.time()\n",
    "    #Evaluting the context\n",
    "    prompt = build_prompt(query, context)\n",
    "    result = call_llm_gpt4(prompt)\n",
    "    if result not in ['1', '0']:\n",
    "        result = '0'\n",
    "    result = int(result)\n",
    "    #Cleaning cache\n",
    "    torch.cuda.empty_cache()\n",
    "    # then collect the garbage\n",
    "    gc.collect()\n",
    "    torch.mps.empty_cache()\n",
    "    return context, (end - start)*1000, result\n",
    "def retrieve_and_time_keyword(retriever, k, query):\n",
    "    start = time.time()\n",
    "    context = retriever( k, query)\n",
    "    end = time.time()\n",
    "    prompt = build_prompt(query, context)\n",
    "    result = call_llm_gpt4(prompt)\n",
    "    if result not in ['1', '0']:\n",
    "        result = '0'\n",
    "    result = int(result)\n",
    "    #Cleaning cache\n",
    "    torch.cuda.empty_cache()\n",
    "    # then collect the garbage\n",
    "    gc.collect()\n",
    "    torch.mps.empty_cache()\n",
    "    return context, (end - start)*1000, result\n",
    "\n",
    "\n",
    "\n",
    "# Make retrievals and measure time (store in a DataFrame)\n",
    "df[['Faiss_context', 'Faiss_time', 'Faiss_result']] = df['query'].apply(\n",
    "    lambda x: pd.Series(retrieve_and_time_Faiss(Faiss_retrieve,'components/db_builds/db_Faiss', embeddings_Faiss, k, x, 'data/KFC_enriched.json'))\n",
    ")\n",
    "\n",
    "df[['Qdrant_context', 'Qdrant_time', 'Qdrant_result']] = df['query'].apply(\n",
    "    lambda x: pd.Series(retrieve_and_time_keyword(Qdrant_retrieve, k, x))\n",
    ")\n",
    "\n",
    "df[['Weviate_vector_context', 'Weviate_vector_time', 'Weviate_vector_result']] = df['query'].apply(\n",
    "    lambda x: pd.Series(retrieve_and_time_keyword(Weviate_retrieve_vector, k, x))\n",
    ")\n",
    "\n",
    "df[['Weviate_keyword_context', 'Weviate_keyword_time', 'Weviate_keyword_result']] = df['query'].apply(\n",
    "    lambda x: pd.Series(retrieve_and_time_keyword(Weviate_retrieve_keyword, k, x))\n",
    ")\n",
    "\n",
    "df[['Weviate_hybrid_context', 'Weviate_hybrid_time', 'Weviate_hybrid_result']] = df['query'].apply(\n",
    "    lambda x: pd.Series(retrieve_and_time_keyword(Weviate_retrieve_hybrid,k, x))\n",
    ")\n",
    "\n",
    "df[['Native_vector_context', 'Native_vector_time', 'Native_vector_result']] = df['query'].apply(\n",
    "    lambda x: pd.Series(retrieve_and_time_vector(Native_retrieve,embeddings, k, x))\n",
    ")\n",
    "\n",
    "df[['Tfidf_context', 'Tfidf_time', 'Tfidf_result']] = df['query'].apply(\n",
    "    lambda x: pd.Series(retrieve_and_time_keyword(Tfidf_retrieve, k, x))\n",
    ")\n",
    "\n",
    "df[['bm25_context', 'bm25_time', 'bm25_result']] = df['query'].apply(\n",
    "    lambda x: pd.Series(retrieve_and_time_keyword(bm25_retrieve, k, x))\n",
    ")\n",
    "\n",
    "df[['Azure_vector_context', 'Azure_vector_time', 'Azure_vector_result']] = df['query'].apply(\n",
    "    lambda x: pd.Series(retrieve_and_time_vector(Azure_retrieve_vector, embeddings, k, x))\n",
    ")\n",
    "\n",
    "df[['Azure_keyword_context', 'Azure_keyword_time', 'Azure_keyword_result']] = df['query'].apply(\n",
    "    lambda x: pd.Series(retrieve_and_time_keyword(Azure_retrieve_keyword, k, x))\n",
    ")\n",
    "\n",
    "df[['Azure_hybrid_context', 'Azure_hybrid_time', 'Azure_hybrid_result']] = df['query'].apply(\n",
    "    lambda x: pd.Series(retrieve_and_time_vector(Azure_retrieve_hybrid, embeddings, k, x))\n",
    ")\n",
    "\n",
    "df[['Random_context', 'Random_time', 'Random_result']] = df['query'].apply(\n",
    "    lambda x: pd.Series(retrieve_and_time_keyword(Random_retrieve, k, x))\n",
    ")\n",
    "\n"
   ]
  },
  {
   "cell_type": "code",
   "execution_count": 10,
   "metadata": {},
   "outputs": [
    {
     "data": {
      "text/html": [
       "<div>\n",
       "<style scoped>\n",
       "    .dataframe tbody tr th:only-of-type {\n",
       "        vertical-align: middle;\n",
       "    }\n",
       "\n",
       "    .dataframe tbody tr th {\n",
       "        vertical-align: top;\n",
       "    }\n",
       "\n",
       "    .dataframe thead th {\n",
       "        text-align: right;\n",
       "    }\n",
       "</style>\n",
       "<table border=\"1\" class=\"dataframe\">\n",
       "  <thead>\n",
       "    <tr style=\"text-align: right;\">\n",
       "      <th></th>\n",
       "      <th>query</th>\n",
       "      <th>Faiss_context</th>\n",
       "      <th>Faiss_time</th>\n",
       "      <th>Faiss_result</th>\n",
       "      <th>Qdrant_context</th>\n",
       "      <th>Qdrant_time</th>\n",
       "      <th>Qdrant_result</th>\n",
       "      <th>Weviate_vector_context</th>\n",
       "      <th>Weviate_vector_time</th>\n",
       "      <th>Weviate_vector_result</th>\n",
       "      <th>Weviate_keyword_context</th>\n",
       "      <th>Weviate_keyword_time</th>\n",
       "      <th>Weviate_keyword_result</th>\n",
       "      <th>Weviate_hybrid_context</th>\n",
       "      <th>Weviate_hybrid_time</th>\n",
       "      <th>Weviate_hybrid_result</th>\n",
       "      <th>Native_vector_context</th>\n",
       "      <th>Native_vector_time</th>\n",
       "      <th>Native_vector_result</th>\n",
       "      <th>Tfidf_context</th>\n",
       "      <th>Tfidf_time</th>\n",
       "      <th>Tfidf_result</th>\n",
       "      <th>bm25_context</th>\n",
       "      <th>bm25_time</th>\n",
       "      <th>bm25_result</th>\n",
       "      <th>Azure_vector_context</th>\n",
       "      <th>Azure_vector_time</th>\n",
       "      <th>Azure_vector_result</th>\n",
       "      <th>Azure_keyword_context</th>\n",
       "      <th>Azure_keyword_time</th>\n",
       "      <th>Azure_keyword_result</th>\n",
       "      <th>Azure_hybrid_context</th>\n",
       "      <th>Azure_hybrid_time</th>\n",
       "      <th>Azure_hybrid_result</th>\n",
       "      <th>Random_context</th>\n",
       "      <th>Random_time</th>\n",
       "      <th>Random_result</th>\n",
       "    </tr>\n",
       "  </thead>\n",
       "  <tbody>\n",
       "    <tr>\n",
       "      <th>0</th>\n",
       "      <td>Hi, do you have cola?</td>\n",
       "      <td>{Match 0:  product: pepsi, content: {'kcal': 170, 'fat': 10, 'protein': 2, 'itemid': 9, 'allergens': ['dairy']}, category: drinks , Price: 2.8, Available: False, Keywords: {'keywords': 'soda, beverage, cola, carbonated drink, pepsi'}  }, {Match 1:  product: guava, content: {}, category: drinks , Price: 15, Available: False, Keywords: {'keywords': 'guava, fruit, drink, juice, tropical'}  }, {Match 2:  product: tea, content: {}, category: drinks , Price: 15, Available: False, Keywords: {'keywords': 'tea, drink, hot beverage, caffeine, herbal'}  },</td>\n",
       "      <td>32.880783</td>\n",
       "      <td>1</td>\n",
       "      <td>{Match 0: product: pepsi, content: {'kcal': 170, 'fat': 10, 'protein': 2, 'itemid': 9, 'allergens': ['dairy']}, category: drinks,  Price: 2.8, Available: False, Keywords: {'keywords': 'soda, beverage, cola, carbonated drink, pepsi'}  }, {Match 1: product: sourcy, content: {}, category: drinks,  Price: 15, Available: False, Keywords: {'keywords': 'water, drink, sourcy, mineral water, non-alcoholic'}  }, {Match 2: product: coffee, content: {}, category: drinks,  Price: 15, Available: False, Keywords: {'keywords': 'coffee, beverage, caffeine, espresso, hot drink'}  },</td>\n",
       "      <td>444.898844</td>\n",
       "      <td>1</td>\n",
       "      <td>{Match 0: {'available': False, 'category': 'drinks', 'content': \"{'kcal': 170, 'fat': 10, 'protein': 2, 'itemid': 9, 'allergens': ['dairy']}\", 'item_id': 'd2', 'keywords': \"{'keywords': 'soda, beverage, cola, carbonated drink, pepsi'}\", 'price': '2.8', 'product': 'pepsi'} }, {Match 1: {'available': False, 'category': 'drinks', 'content': '{}', 'item_id': 'd12', 'keywords': \"{'keywords': 'soda, drink, citrus, refreshment, sisi'}\", 'price': '15', 'product': 'sisi'} }, {Match 2: {'available': False, 'category': 'drinks', 'content': '{}', 'item_id': 'd13', 'keywords': \"{'keywords': 'soda, drink, soft drink, fernandes, non-alcoholic'}\", 'price': '15', 'product': 'fernandes'} },</td>\n",
       "      <td>561.834097</td>\n",
       "      <td>1</td>\n",
       "      <td>{Match 0: {'available': False, 'category': 'drinks', 'content': \"{'kcal': 170, 'fat': 10, 'protein': 2, 'itemid': 9, 'allergens': ['dairy']}\", 'item_id': 'd2', 'keywords': \"{'keywords': 'soda, beverage, cola, carbonated drink, pepsi'}\", 'price': '2.8', 'product': 'pepsi'} },</td>\n",
       "      <td>27.162790</td>\n",
       "      <td>1</td>\n",
       "      <td>{Match 0: {'available': False, 'category': 'drinks', 'content': \"{'kcal': 170, 'fat': 10, 'protein': 2, 'itemid': 9, 'allergens': ['dairy']}\", 'item_id': 'd2', 'keywords': \"{'keywords': 'soda, beverage, cola, carbonated drink, pepsi'}\", 'price': '2.8', 'product': 'pepsi'} }, {Match 1: {'available': False, 'category': 'drinks', 'content': '{}', 'item_id': 'd12', 'keywords': \"{'keywords': 'soda, drink, citrus, refreshment, sisi'}\", 'price': '15', 'product': 'sisi'} }, {Match 2: {'available': False, 'category': 'drinks', 'content': '{}', 'item_id': 'd13', 'keywords': \"{'keywords': 'soda, drink, soft drink, fernandes, non-alcoholic'}\", 'price': '15', 'product': 'fernandes'} },</td>\n",
       "      <td>437.011003</td>\n",
       "      <td>1</td>\n",
       "      <td>{Match 8: Product: pepsi; Content: {'kcal': 170, 'fat': 10, 'protein': 2, 'itemid': 9, 'allergens': ['dairy']}; Category: drinks;, Price: 2.8 , Available: false, Keywords: {'keywords': 'soda, beverage, cola, carbonated drink, pepsi'}  } {Match 13: Product: guava; Content: {}; Category: drinks;, Price: 15 , Available: false, Keywords: {'keywords': 'guava, fruit, drink, juice, tropical'}  } {Match 16: Product: espresso; Content: {}; Category: drinks;, Price: 15 , Available: false, Keywords: {'keywords': 'coffee, hot drink, caffeine, espresso, beverage'}  }</td>\n",
       "      <td>155.074120</td>\n",
       "      <td>1</td>\n",
       "      <td>{Match 8: Product: pepsi; Content: {'kcal': 170, 'fat': 10, 'protein': 2, 'itemid': 9, 'allergens': ['dairy']}; Category: drinks;, Price: 2.8 , Available: false, Keywords: {'keywords': 'soda, beverage, cola, carbonated drink, pepsi'}  } {Match 30: Product: colonel stacker; Content: {'kcal': 150, 'fat': 100, 'protein': 10, 'itemid': 66, 'allergens': ['']}; Category: burgers;, Price: 15 , Available: false, Keywords: {'keywords': 'chicken, food, burger, stacker, no allergens'}  } {Match 32: Product: veggie tender; Content: {'kcal': 150, 'fat': 100, 'protein': 10, 'itemid': 71, 'allergens': ['']}; Category: burgers;, Price: 15 , Available: false, Keywords: {'keywords': 'vegetarian, food, burger, plant-based, no meat'}  }</td>\n",
       "      <td>36.714077</td>\n",
       "      <td>1</td>\n",
       "      <td>{Match 1: Product: pepsi;  Content: {'kcal': 170, 'fat': 10, 'protein': 2, 'itemid': 9, 'allergens': ['dairy']};  Category: drinks;  Keywords: {'keywords': 'soda, beverage, cola, carbonated drink, pepsi'};  Price: 2.8;  Available: false; }, {Match 2: Product: family bucket;  Content: [['hot wings', 12], ['original piece', 4], ['crispy tenders', 6], ['filet bites', 9], ['fries', 4], {'from': 'side dishes', 'choose': 4}];  Category: menus;  Keywords: ;  Price: 30;  Available: true; }, {Match 3: Product: zinger burger;  Content: {'kcal': 451, 'fat': 25, 'protein': 28, 'itemid': 1, 'allergens': ['wheat', 'soy']};  Category: burgers;  Keywords: {'keywords': 'spicy, food, chicken, burger, zinger'};  Price: 4.5;  Available: false; },</td>\n",
       "      <td>2.004862</td>\n",
       "      <td>1</td>\n",
       "      <td>{Match 0: product: pepsi; content: {'kcal': 170, 'fat': 10, 'protein': 2, 'itemid': 9, 'allergens': ['dairy']}; category: drinks, Price: 2.8, Available: false, Keywords: {'keywords': 'soda, beverage, cola, carbonated drink, pepsi'}  },</td>\n",
       "      <td>561.373949</td>\n",
       "      <td>1</td>\n",
       "      <td>{Match 0: product: pepsi; content: {'kcal': 170, 'fat': 10, 'protein': 2, 'itemid': 9, 'allergens': ['dairy']}; category: drinks, Price: 2.8, Available: false, Keywords: {'keywords': 'soda, beverage, cola, carbonated drink, pepsi'}  },</td>\n",
       "      <td>408.878088</td>\n",
       "      <td>1</td>\n",
       "      <td>{Match 0: product: pepsi; content: {'kcal': 170, 'fat': 10, 'protein': 2, 'itemid': 9, 'allergens': ['dairy']}; category: drinks, Price: 2.8, Available: false, Keywords: {'keywords': 'soda, beverage, cola, carbonated drink, pepsi'}  },</td>\n",
       "      <td>475.938797</td>\n",
       "      <td>1</td>\n",
       "      <td>{Match 60: Product: variety box meal; Content: [['hot wings', 3], ['original piece', 1], ['crispy tenders', 2], {'from': 'drinks', 'size': 'l'}, {'from': 'side dishes', 'choose': 2}]; Category: menus;, Price: 30 , Available: true, Keywords:   } {Match 86: Product: family bucket; Content: [['hot wings', 12], ['original piece', 4], ['crispy tenders', 6], ['filet bites', 9], ['fries', 4], {'from': 'side dishes', 'choose': 4}]; Category: menus;, Price: 30 , Available: true, Keywords:   } {Match 44: Product: ice cream; Content: {'kcal': 150, 'fat': 100, 'protein': 10, 'itemid': 95, 'allergens': ['']}; Category: desserts;, Price: 15 , Available: false, Keywords: {'keywords': 'sweet, dessert, cold, ice cream, treat'}  }</td>\n",
       "      <td>36.532879</td>\n",
       "      <td>0</td>\n",
       "    </tr>\n",
       "    <tr>\n",
       "      <th>1</th>\n",
       "      <td>Hi I want to have a Fire Zinger Stacker without sauce and a cola</td>\n",
       "      <td>{Match 0:  product: fire zinger stacker meal, content: [['fire zinger stacker', 1], {'from': 'side dishes', 'choose': 1}, {'from': 'drinks', 'size': 'l'}], category: menus , Price: 30, Available: True, Keywords:   }, {Match 1:  product: fire zinger stacker, content: {'kcal': 150, 'fat': 100, 'protein': 10, 'itemid': 64, 'allergens': ['']}, category: burgers , Price: 15, Available: False, Keywords: {'keywords': 'spicy, food, chicken, burger, zinger'}  }, {Match 2:  product: fire zinger burger meal, content: [['fire zinger', 1], {'from': 'side dishes', 'choose': 1}, {'from': 'drinks', 'size': 'm'}], category: menus , Price: 30, Available: True, Keywords:   },</td>\n",
       "      <td>25.997162</td>\n",
       "      <td>1</td>\n",
       "      <td>{Match 0: product: fire zinger stacker meal, content: [['fire zinger stacker', 1], {'from': 'side dishes', 'choose': 1}, {'from': 'drinks', 'size': 'l'}], category: menus,  Price: 30, Available: True, Keywords:   }, {Match 1: product: fire zinger burger meal, content: [['fire zinger', 1], {'from': 'side dishes', 'choose': 1}, {'from': 'drinks', 'size': 'm'}], category: menus,  Price: 30, Available: True, Keywords:   }, {Match 2: product: fire zinger stacker, content: {'kcal': 150, 'fat': 100, 'protein': 10, 'itemid': 64, 'allergens': ['']}, category: burgers,  Price: 15, Available: False, Keywords: {'keywords': 'spicy, food, chicken, burger, zinger'}  },</td>\n",
       "      <td>116.695881</td>\n",
       "      <td>1</td>\n",
       "      <td>{Match 0: {'available': True, 'category': 'menus', 'content': \"[['fire zinger stacker', 1], {'from': 'side dishes', 'choose': 1}, {'from': 'drinks', 'size': 'l'}]\", 'item_id': 'm43', 'keywords': 'zinger, meal, side dish, large drink, fire stacker', 'price': '30', 'product': 'fire zinger stacker meal'} }, {Match 1: {'available': False, 'category': 'burgers', 'content': \"{'kcal': 150, 'fat': 100, 'protein': 10, 'itemid': 64, 'allergens': ['']}\", 'item_id': 'b8', 'keywords': \"{'keywords': 'spicy, food, chicken, burger, zinger'}\", 'price': '15', 'product': 'fire zinger stacker'} }, {Match 2: {'available': True, 'category': 'menus', 'content': \"[['fire zinger', 1], {'from': 'side dishes', 'choose': 1}, {'from': 'drinks', 'size': 'm'}]\", 'item_id': 'm4', 'keywords': 'burger, meal, side dish, drink, fire zinger', 'price': '30', 'product': 'fire zinger burger meal'} },</td>\n",
       "      <td>389.599085</td>\n",
       "      <td>1</td>\n",
       "      <td>{Match 0: {'available': True, 'category': 'menus', 'content': \"[['fire zinger stacker', 1], {'from': 'side dishes', 'choose': 1}, {'from': 'drinks', 'size': 'l'}]\", 'item_id': 'm43', 'keywords': 'zinger, meal, side dish, large drink, fire stacker', 'price': '30', 'product': 'fire zinger stacker meal'} }, {Match 1: {'available': False, 'category': 'sauces', 'content': '{}', 'item_id': 's1', 'keywords': \"{'keywords': 'apple, condiment, sauce, dessert, apple sauce'}\", 'price': '15', 'product': 'apple sauce'} }, {Match 2: {'available': True, 'category': 'menus', 'content': \"[['fire zinger', 1], {'from': 'side dishes', 'choose': 1}, {'from': 'drinks', 'size': 'm'}]\", 'item_id': 'm4', 'keywords': 'burger, meal, side dish, drink, fire zinger', 'price': '30', 'product': 'fire zinger burger meal'} },</td>\n",
       "      <td>22.738934</td>\n",
       "      <td>1</td>\n",
       "      <td>{Match 0: {'available': False, 'category': 'burgers', 'content': \"{'kcal': 150, 'fat': 100, 'protein': 10, 'itemid': 64, 'allergens': ['']}\", 'item_id': 'b8', 'keywords': \"{'keywords': 'spicy, food, chicken, burger, zinger'}\", 'price': '15', 'product': 'fire zinger stacker'} }, {Match 1: {'available': False, 'category': 'burgers', 'content': \"{'kcal': 100, 'fat': 100, 'protein': 10, 'itemid': 65, 'allergens': ['']}\", 'item_id': 'b9', 'keywords': \"{'keywords': 'spicy, food, chicken, burger, zinger'}\", 'price': '15', 'product': 'fire zinger'} }, {Match 2: {'available': True, 'category': 'menus', 'content': \"[['fire zinger stacker', 1], {'from': 'side dishes', 'choose': 1}, {'from': 'drinks', 'size': 'l'}]\", 'item_id': 'm43', 'keywords': 'zinger, meal, side dish, large drink, fire stacker', 'price': '30', 'product': 'fire zinger stacker meal'} },</td>\n",
       "      <td>388.784885</td>\n",
       "      <td>1</td>\n",
       "      <td>{Match 89: Product: fire zinger stacker meal; Content: [['fire zinger stacker', 1], {'from': 'side dishes', 'choose': 1}, {'from': 'drinks', 'size': 'l'}]; Category: menus;, Price: 30 , Available: true, Keywords:   } {Match 28: Product: fire zinger stacker; Content: {'kcal': 150, 'fat': 100, 'protein': 10, 'itemid': 64, 'allergens': ['']}; Category: burgers;, Price: 15 , Available: false, Keywords: {'keywords': 'spicy, food, chicken, burger, zinger'}  } {Match 50: Product: fire zinger burger meal; Content: [['fire zinger', 1], {'from': 'side dishes', 'choose': 1}, {'from': 'drinks', 'size': 'm'}]; Category: menus;, Price: 30 , Available: true, Keywords:   }</td>\n",
       "      <td>49.728155</td>\n",
       "      <td>1</td>\n",
       "      <td>{Match 89: Product: fire zinger stacker meal; Content: [['fire zinger stacker', 1], {'from': 'side dishes', 'choose': 1}, {'from': 'drinks', 'size': 'l'}]; Category: menus;, Price: 30 , Available: true, Keywords:   } {Match 38: Product: apple sauce; Content: {}; Category: sauces;, Price: 15 , Available: false, Keywords: {'keywords': 'apple, condiment, sauce, dessert, apple sauce'}  } {Match 28: Product: fire zinger stacker; Content: {'kcal': 150, 'fat': 100, 'protein': 10, 'itemid': 64, 'allergens': ['']}; Category: burgers;, Price: 15 , Available: false, Keywords: {'keywords': 'spicy, food, chicken, burger, zinger'}  }</td>\n",
       "      <td>37.504911</td>\n",
       "      <td>1</td>\n",
       "      <td>{Match 1: Product: fire zinger stacker meal;  Content: [['fire zinger stacker', 1], {'from': 'side dishes', 'choose': 1}, {'from': 'drinks', 'size': 'l'}];  Category: menus;  Keywords: ;  Price: 30;  Available: true; }, {Match 2: Product: fire zinger stacker;  Content: {'kcal': 150, 'fat': 100, 'protein': 10, 'itemid': 64, 'allergens': ['']};  Category: burgers;  Keywords: {'keywords': 'spicy, food, chicken, burger, zinger'};  Price: 15;  Available: false; }, {Match 3: Product: apple sauce;  Content: {};  Category: sauces;  Keywords: {'keywords': 'apple, condiment, sauce, dessert, apple sauce'};  Price: 15;  Available: false; },</td>\n",
       "      <td>0.658274</td>\n",
       "      <td>1</td>\n",
       "      <td>{Match 0: product: fire zinger stacker meal; content: [['fire zinger stacker', 1], {'from': 'side dishes', 'choose': 1}, {'from': 'drinks', 'size': 'l'}]; category: menus, Price: 30, Available: true, Keywords:   },</td>\n",
       "      <td>483.728886</td>\n",
       "      <td>1</td>\n",
       "      <td>{Match 0: product: apple sauce; content: {}; category: sauces, Price: 15, Available: false, Keywords: {'keywords': 'apple, condiment, sauce, dessert, apple sauce'}  }, {Match 1: product: fire zinger stacker; content: {'kcal': 150, 'fat': 100, 'protein': 10, 'itemid': 64, 'allergens': ['']}; category: burgers, Price: 15, Available: false, Keywords: {'keywords': 'spicy, food, chicken, burger, zinger'}  }, {Match 2: product: fire zinger stacker meal; content: [['fire zinger stacker', 1], {'from': 'side dishes', 'choose': 1}, {'from': 'drinks', 'size': 'l'}]; category: menus, Price: 30, Available: true, Keywords:   },</td>\n",
       "      <td>436.015844</td>\n",
       "      <td>1</td>\n",
       "      <td>{Match 0: product: fire zinger stacker meal; content: [['fire zinger stacker', 1], {'from': 'side dishes', 'choose': 1}, {'from': 'drinks', 'size': 'l'}]; category: menus, Price: 30, Available: true, Keywords:   }, {Match 1: product: apple sauce; content: {}; category: sauces, Price: 15, Available: false, Keywords: {'keywords': 'apple, condiment, sauce, dessert, apple sauce'}  }, {Match 2: product: fire zinger stacker; content: {'kcal': 150, 'fat': 100, 'protein': 10, 'itemid': 64, 'allergens': ['']}; category: burgers, Price: 15, Available: false, Keywords: {'keywords': 'spicy, food, chicken, burger, zinger'}  },</td>\n",
       "      <td>448.989868</td>\n",
       "      <td>1</td>\n",
       "      <td>{Match 33: Product: filet bites; Content: {'kcal': 150, 'fat': 100, 'protein': 10, 'itemid': 68, 'allergens': ['']}; Category: burgers;, Price: 15 , Available: false, Keywords: {'keywords': 'beef, food, burger, meat, bite-sized'}  } {Match 89: Product: fire zinger stacker meal; Content: [['fire zinger stacker', 1], {'from': 'side dishes', 'choose': 1}, {'from': 'drinks', 'size': 'l'}]; Category: menus;, Price: 30 , Available: true, Keywords:   } {Match 64: Product: twister meal; Content: [['crispy tenders', 2], {'from': 'side dishes', 'choose': 1}, {'from': 'drinks', 'size': 'l'}]; Category: menus;, Price: 30 , Available: true, Keywords:   }</td>\n",
       "      <td>36.245108</td>\n",
       "      <td>1</td>\n",
       "    </tr>\n",
       "    <tr>\n",
       "      <th>2</th>\n",
       "      <td>Give me a Veggie Tender, medium, with salad</td>\n",
       "      <td>{Match 0:  product: snack box 2 veggie tenders, content: [['veggie tenders', 2], ['fries', 1]], category: menus , Price: 30, Available: True, Keywords:   }, {Match 1:  product: veggie tenders, content: {'kcal': 150, 'fat': 100, 'protein': 10, 'itemid': 78, 'allergens': ['']}, category: vegetarian , Price: 15, Available: False, Keywords: {'keywords': 'vegetable, food, vegan, tenders, vegetarian'}  }, {Match 2:  product: veggie tender, content: {'kcal': 150, 'fat': 100, 'protein': 10, 'itemid': 71, 'allergens': ['']}, category: burgers , Price: 15, Available: False, Keywords: {'keywords': 'vegetarian, food, burger, plant-based, no meat'}  },</td>\n",
       "      <td>14.442921</td>\n",
       "      <td>1</td>\n",
       "      <td>{Match 0: product: veggie tenders, content: {'kcal': 150, 'fat': 100, 'protein': 10, 'itemid': 78, 'allergens': ['']}, category: vegetarian,  Price: 15, Available: False, Keywords: {'keywords': 'vegetable, food, vegan, tenders, vegetarian'}  }, {Match 1: product: 4 veggie tender meal, content: [['veggie tenders', 4], {'from': 'drinks', 'size': 'l'}, {'from': 'side dishes', 'choose': 1}], category: menus,  Price: 30, Available: True, Keywords:   }, {Match 2: product: snack box 2 veggie tenders, content: [['veggie tenders', 2], ['fries', 1]], category: menus,  Price: 30, Available: True, Keywords:   },</td>\n",
       "      <td>112.814665</td>\n",
       "      <td>1</td>\n",
       "      <td>{Match 0: {'available': True, 'category': 'menus', 'content': \"[['veggie tenders', 5], {'from': 'side dishes', 'choose': 2}, {'from': 'drinks', 'size': 'l'}]\", 'item_id': 'm19', 'keywords': 'veggie, meal, tenders, side dishes, large drink', 'price': '30', 'product': 'veggie box meal'} }, {Match 1: {'available': True, 'category': 'menus', 'content': \"[['veggie tenders', 4], {'from': 'drinks', 'size': 'l'}, {'from': 'side dishes', 'choose': 1}]\", 'item_id': 'm20', 'keywords': 'veggie, meal, drink, side dish, tenders', 'price': '30', 'product': '4 veggie tender meal'} }, {Match 2: {'available': True, 'category': 'menus', 'content': \"[['veggie tenders', 2], {'from': 'drinks', 'size': 'l'}, {'from': 'sauces', 'choose': 1}, {'from': 'side dishes', 'choose': 1}]\", 'item_id': 'm37', 'keywords': 'veggie, kids meal, healthy, tenders, side dish', 'price': '30', 'product': 'veggie kids meal'} },</td>\n",
       "      <td>448.349953</td>\n",
       "      <td>1</td>\n",
       "      <td>{Match 0: {'available': True, 'category': 'menus', 'content': \"[['hot wings', 6], {'from': 'side dishes', 'choose': 1}, {'from': 'drinks', 'size': 'l'}]\", 'item_id': 'm15', 'keywords': 'veggie, meal, hot wings, side dishes, large drink', 'price': '30', 'product': '4 veggie tender meal'} }, {Match 1: {'available': False, 'category': 'burgers', 'content': \"{'kcal': 150, 'fat': 100, 'protein': 10, 'itemid': 71, 'allergens': ['']}\", 'item_id': 'b12', 'keywords': \"{'keywords': 'vegetarian, food, burger, plant-based, no meat'}\", 'price': '15', 'product': 'veggie tender'} }, {Match 2: {'available': False, 'category': 'side dishes', 'content': \"{'kcal': 170, 'fat': 10, 'protein': 2, 'itemid': 7, 'allergens': ['dairy']}\", 'item_id': 'sd1', 'keywords': \"{'keywords': 'cabbage, salad, side dish, coleslaw, vegetable'}\", 'price': '1.7', 'product': 'coleslaw'} },</td>\n",
       "      <td>27.770042</td>\n",
       "      <td>1</td>\n",
       "      <td>{Match 0: {'available': True, 'category': 'menus', 'content': \"[['veggie tenders', 4], {'from': 'drinks', 'size': 'l'}, {'from': 'side dishes', 'choose': 1}]\", 'item_id': 'm20', 'keywords': 'veggie, meal, drink, side dish, tenders', 'price': '30', 'product': '4 veggie tender meal'} }, {Match 1: {'available': False, 'category': 'burgers', 'content': \"{'kcal': 150, 'fat': 100, 'protein': 10, 'itemid': 71, 'allergens': ['']}\", 'item_id': 'b12', 'keywords': \"{'keywords': 'vegetarian, food, burger, plant-based, no meat'}\", 'price': '15', 'product': 'veggie tender'} }, {Match 2: {'available': True, 'category': 'menus', 'content': \"[['veggie tenders', 5], {'from': 'side dishes', 'choose': 2}, {'from': 'drinks', 'size': 'l'}]\", 'item_id': 'm19', 'keywords': 'veggie, meal, tenders, side dishes, large drink', 'price': '30', 'product': 'veggie box meal'} },</td>\n",
       "      <td>341.645002</td>\n",
       "      <td>1</td>\n",
       "      <td>{Match 46: Product: veggie tenders; Content: {'kcal': 150, 'fat': 100, 'protein': 10, 'itemid': 78, 'allergens': ['']}; Category: vegetarian;, Price: 15 , Available: false, Keywords: {'keywords': 'vegetable, food, vegan, tenders, vegetarian'}  } {Match 78: Product: snack box 2 veggie tenders; Content: [['veggie tenders', 2], ['fries', 1]]; Category: menus;, Price: 30 , Available: true, Keywords:   } {Match 32: Product: veggie tender; Content: {'kcal': 150, 'fat': 100, 'protein': 10, 'itemid': 71, 'allergens': ['']}; Category: burgers;, Price: 15 , Available: false, Keywords: {'keywords': 'vegetarian, food, burger, plant-based, no meat'}  }</td>\n",
       "      <td>49.252987</td>\n",
       "      <td>1</td>\n",
       "      <td>{Match 66: Product: 4 veggie tender meal; Content: [['veggie tenders', 4], {'from': 'drinks', 'size': 'l'}, {'from': 'side dishes', 'choose': 1}]; Category: menus;, Price: 30 , Available: true, Keywords:   } {Match 74: Product: veggie boxmeal; Content: [['veggie tender', 5], ['pepsi', 1], {'from': 'side dishes', 'choose': 2}, {'from': 'drinks', 'size': 'l'}]; Category: menus;, Price: 30 , Available: true, Keywords:   } {Match 61: Product: 4 veggie tender meal; Content: [['hot wings', 6], {'from': 'side dishes', 'choose': 1}, {'from': 'drinks', 'size': 'l'}]; Category: menus;, Price: 30 , Available: true, Keywords:   }</td>\n",
       "      <td>36.555052</td>\n",
       "      <td>1</td>\n",
       "      <td>{Match 1: Product: veggie tender;  Content: {'kcal': 150, 'fat': 100, 'protein': 10, 'itemid': 71, 'allergens': ['']};  Category: burgers;  Keywords: {'keywords': 'vegetarian, food, burger, plant-based, no meat'};  Price: 15;  Available: false; }, {Match 2: Product: 4 veggie tender meal;  Content: [['veggie tenders', 4], {'from': 'drinks', 'size': 'l'}, {'from': 'side dishes', 'choose': 1}];  Category: menus;  Keywords: ;  Price: 30;  Available: true; }, {Match 3: Product: 4 veggie tender meal;  Content: [['hot wings', 6], {'from': 'side dishes', 'choose': 1}, {'from': 'drinks', 'size': 'l'}];  Category: menus;  Keywords: ;  Price: 30;  Available: true; },</td>\n",
       "      <td>0.597000</td>\n",
       "      <td>1</td>\n",
       "      <td>{Match 0: product: veggie tenders; content: {'kcal': 150, 'fat': 100, 'protein': 10, 'itemid': 78, 'allergens': ['']}; category: vegetarian, Price: 15, Available: false, Keywords: {'keywords': 'vegetable, food, vegan, tenders, vegetarian'}  },</td>\n",
       "      <td>445.387602</td>\n",
       "      <td>1</td>\n",
       "      <td>{Match 0: product: tender chicken; content: {'kcal': 150, 'fat': 100, 'protein': 10, 'itemid': 81, 'allergens': ['']}; category: chicken, Price: 15, Available: false, Keywords: {'keywords': 'poultry, food, chicken, tender, no allergens'}  }, {Match 1: product: veggie; content: {'kcal': 150, 'fat': 100, 'protein': 10, 'itemid': 72, 'allergens': ['']}; category: vegetarian, Price: 15, Available: false, Keywords: {'keywords': 'vegetable, healthy, vegan, plant-based, veggie'}  }, {Match 2: product: 4 veggie tender meal; content: [['veggie tenders', 4], {'from': 'drinks', 'size': 'l'}, {'from': 'side dishes', 'choose': 1}]; category: menus, Price: 30, Available: true, Keywords:   },</td>\n",
       "      <td>416.768074</td>\n",
       "      <td>1</td>\n",
       "      <td>{Match 0: product: veggie tenders; content: {'kcal': 150, 'fat': 100, 'protein': 10, 'itemid': 78, 'allergens': ['']}; category: vegetarian, Price: 15, Available: false, Keywords: {'keywords': 'vegetable, food, vegan, tenders, vegetarian'}  }, {Match 1: product: tender chicken; content: {'kcal': 150, 'fat': 100, 'protein': 10, 'itemid': 81, 'allergens': ['']}; category: chicken, Price: 15, Available: false, Keywords: {'keywords': 'poultry, food, chicken, tender, no allergens'}  }, {Match 2: product: veggie; content: {'kcal': 150, 'fat': 100, 'protein': 10, 'itemid': 72, 'allergens': ['']}; category: vegetarian, Price: 15, Available: false, Keywords: {'keywords': 'vegetable, healthy, vegan, plant-based, veggie'}  },</td>\n",
       "      <td>456.149101</td>\n",
       "      <td>1</td>\n",
       "      <td>{Match 50: Product: fire zinger burger meal; Content: [['fire zinger', 1], {'from': 'side dishes', 'choose': 1}, {'from': 'drinks', 'size': 'm'}]; Category: menus;, Price: 30 , Available: true, Keywords:   } {Match 61: Product: 4 veggie tender meal; Content: [['hot wings', 6], {'from': 'side dishes', 'choose': 1}, {'from': 'drinks', 'size': 'l'}]; Category: menus;, Price: 30 , Available: true, Keywords:   } {Match 88: Product: veggie kids meal; Content: [['veggie tenders', 2], {'from': 'side dishes', 'choose': 1}, {'from': 'drinks', 'size': 'l'}]; Category: menus;, Price: 30 , Available: true, Keywords:   }</td>\n",
       "      <td>35.035133</td>\n",
       "      <td>1</td>\n",
       "    </tr>\n",
       "  </tbody>\n",
       "</table>\n",
       "</div>"
      ],
      "text/plain": [
       "                                                              query  \\\n",
       "0                                             Hi, do you have cola?   \n",
       "1  Hi I want to have a Fire Zinger Stacker without sauce and a cola   \n",
       "2                       Give me a Veggie Tender, medium, with salad   \n",
       "\n",
       "                                                                                                                                                                                                                                                                                                                                                                                                                                                                                                                                                                                                                                                                                 Faiss_context  \\\n",
       "0                                                                                                                     {Match 0:  product: pepsi, content: {'kcal': 170, 'fat': 10, 'protein': 2, 'itemid': 9, 'allergens': ['dairy']}, category: drinks , Price: 2.8, Available: False, Keywords: {'keywords': 'soda, beverage, cola, carbonated drink, pepsi'}  }, {Match 1:  product: guava, content: {}, category: drinks , Price: 15, Available: False, Keywords: {'keywords': 'guava, fruit, drink, juice, tropical'}  }, {Match 2:  product: tea, content: {}, category: drinks , Price: 15, Available: False, Keywords: {'keywords': 'tea, drink, hot beverage, caffeine, herbal'}  },    \n",
       "1   {Match 0:  product: fire zinger stacker meal, content: [['fire zinger stacker', 1], {'from': 'side dishes', 'choose': 1}, {'from': 'drinks', 'size': 'l'}], category: menus , Price: 30, Available: True, Keywords:   }, {Match 1:  product: fire zinger stacker, content: {'kcal': 150, 'fat': 100, 'protein': 10, 'itemid': 64, 'allergens': ['']}, category: burgers , Price: 15, Available: False, Keywords: {'keywords': 'spicy, food, chicken, burger, zinger'}  }, {Match 2:  product: fire zinger burger meal, content: [['fire zinger', 1], {'from': 'side dishes', 'choose': 1}, {'from': 'drinks', 'size': 'm'}], category: menus , Price: 30, Available: True, Keywords:   },    \n",
       "2                     {Match 0:  product: snack box 2 veggie tenders, content: [['veggie tenders', 2], ['fries', 1]], category: menus , Price: 30, Available: True, Keywords:   }, {Match 1:  product: veggie tenders, content: {'kcal': 150, 'fat': 100, 'protein': 10, 'itemid': 78, 'allergens': ['']}, category: vegetarian , Price: 15, Available: False, Keywords: {'keywords': 'vegetable, food, vegan, tenders, vegetarian'}  }, {Match 2:  product: veggie tender, content: {'kcal': 150, 'fat': 100, 'protein': 10, 'itemid': 71, 'allergens': ['']}, category: burgers , Price: 15, Available: False, Keywords: {'keywords': 'vegetarian, food, burger, plant-based, no meat'}  },    \n",
       "\n",
       "   Faiss_time  Faiss_result  \\\n",
       "0   32.880783             1   \n",
       "1   25.997162             1   \n",
       "2   14.442921             1   \n",
       "\n",
       "                                                                                                                                                                                                                                                                                                                                                                                                                                                                                                                                                                                                                                                                             Qdrant_context  \\\n",
       "0                                                                                              {Match 0: product: pepsi, content: {'kcal': 170, 'fat': 10, 'protein': 2, 'itemid': 9, 'allergens': ['dairy']}, category: drinks,  Price: 2.8, Available: False, Keywords: {'keywords': 'soda, beverage, cola, carbonated drink, pepsi'}  }, {Match 1: product: sourcy, content: {}, category: drinks,  Price: 15, Available: False, Keywords: {'keywords': 'water, drink, sourcy, mineral water, non-alcoholic'}  }, {Match 2: product: coffee, content: {}, category: drinks,  Price: 15, Available: False, Keywords: {'keywords': 'coffee, beverage, caffeine, espresso, hot drink'}  },    \n",
       "1   {Match 0: product: fire zinger stacker meal, content: [['fire zinger stacker', 1], {'from': 'side dishes', 'choose': 1}, {'from': 'drinks', 'size': 'l'}], category: menus,  Price: 30, Available: True, Keywords:   }, {Match 1: product: fire zinger burger meal, content: [['fire zinger', 1], {'from': 'side dishes', 'choose': 1}, {'from': 'drinks', 'size': 'm'}], category: menus,  Price: 30, Available: True, Keywords:   }, {Match 2: product: fire zinger stacker, content: {'kcal': 150, 'fat': 100, 'protein': 10, 'itemid': 64, 'allergens': ['']}, category: burgers,  Price: 15, Available: False, Keywords: {'keywords': 'spicy, food, chicken, burger, zinger'}  },    \n",
       "2                                                          {Match 0: product: veggie tenders, content: {'kcal': 150, 'fat': 100, 'protein': 10, 'itemid': 78, 'allergens': ['']}, category: vegetarian,  Price: 15, Available: False, Keywords: {'keywords': 'vegetable, food, vegan, tenders, vegetarian'}  }, {Match 1: product: 4 veggie tender meal, content: [['veggie tenders', 4], {'from': 'drinks', 'size': 'l'}, {'from': 'side dishes', 'choose': 1}], category: menus,  Price: 30, Available: True, Keywords:   }, {Match 2: product: snack box 2 veggie tenders, content: [['veggie tenders', 2], ['fries', 1]], category: menus,  Price: 30, Available: True, Keywords:   },    \n",
       "\n",
       "   Qdrant_time  Qdrant_result  \\\n",
       "0   444.898844              1   \n",
       "1   116.695881              1   \n",
       "2   112.814665              1   \n",
       "\n",
       "                                                                                                                                                                                                                                                                                                                                                                                                                                                                                                                                                                                                                                                                                                                                                                                                                                                                                                               Weviate_vector_context  \\\n",
       "0                                                                                                                                                                                                                          {Match 0: {'available': False, 'category': 'drinks', 'content': \"{'kcal': 170, 'fat': 10, 'protein': 2, 'itemid': 9, 'allergens': ['dairy']}\", 'item_id': 'd2', 'keywords': \"{'keywords': 'soda, beverage, cola, carbonated drink, pepsi'}\", 'price': '2.8', 'product': 'pepsi'} }, {Match 1: {'available': False, 'category': 'drinks', 'content': '{}', 'item_id': 'd12', 'keywords': \"{'keywords': 'soda, drink, citrus, refreshment, sisi'}\", 'price': '15', 'product': 'sisi'} }, {Match 2: {'available': False, 'category': 'drinks', 'content': '{}', 'item_id': 'd13', 'keywords': \"{'keywords': 'soda, drink, soft drink, fernandes, non-alcoholic'}\", 'price': '15', 'product': 'fernandes'} },    \n",
       "1                          {Match 0: {'available': True, 'category': 'menus', 'content': \"[['fire zinger stacker', 1], {'from': 'side dishes', 'choose': 1}, {'from': 'drinks', 'size': 'l'}]\", 'item_id': 'm43', 'keywords': 'zinger, meal, side dish, large drink, fire stacker', 'price': '30', 'product': 'fire zinger stacker meal'} }, {Match 1: {'available': False, 'category': 'burgers', 'content': \"{'kcal': 150, 'fat': 100, 'protein': 10, 'itemid': 64, 'allergens': ['']}\", 'item_id': 'b8', 'keywords': \"{'keywords': 'spicy, food, chicken, burger, zinger'}\", 'price': '15', 'product': 'fire zinger stacker'} }, {Match 2: {'available': True, 'category': 'menus', 'content': \"[['fire zinger', 1], {'from': 'side dishes', 'choose': 1}, {'from': 'drinks', 'size': 'm'}]\", 'item_id': 'm4', 'keywords': 'burger, meal, side dish, drink, fire zinger', 'price': '30', 'product': 'fire zinger burger meal'} },    \n",
       "2   {Match 0: {'available': True, 'category': 'menus', 'content': \"[['veggie tenders', 5], {'from': 'side dishes', 'choose': 2}, {'from': 'drinks', 'size': 'l'}]\", 'item_id': 'm19', 'keywords': 'veggie, meal, tenders, side dishes, large drink', 'price': '30', 'product': 'veggie box meal'} }, {Match 1: {'available': True, 'category': 'menus', 'content': \"[['veggie tenders', 4], {'from': 'drinks', 'size': 'l'}, {'from': 'side dishes', 'choose': 1}]\", 'item_id': 'm20', 'keywords': 'veggie, meal, drink, side dish, tenders', 'price': '30', 'product': '4 veggie tender meal'} }, {Match 2: {'available': True, 'category': 'menus', 'content': \"[['veggie tenders', 2], {'from': 'drinks', 'size': 'l'}, {'from': 'sauces', 'choose': 1}, {'from': 'side dishes', 'choose': 1}]\", 'item_id': 'm37', 'keywords': 'veggie, kids meal, healthy, tenders, side dish', 'price': '30', 'product': 'veggie kids meal'} },    \n",
       "\n",
       "   Weviate_vector_time  Weviate_vector_result  \\\n",
       "0           561.834097                      1   \n",
       "1           389.599085                      1   \n",
       "2           448.349953                      1   \n",
       "\n",
       "                                                                                                                                                                                                                                                                                                                                                                                                                                                                                                                                                                                                                                                                                                                                                                                                                                                                          Weviate_keyword_context  \\\n",
       "0                                                                                                                                                                                                                                                                                                                                                                                                                                                                                                                                                                                                            {Match 0: {'available': False, 'category': 'drinks', 'content': \"{'kcal': 170, 'fat': 10, 'protein': 2, 'itemid': 9, 'allergens': ['dairy']}\", 'item_id': 'd2', 'keywords': \"{'keywords': 'soda, beverage, cola, carbonated drink, pepsi'}\", 'price': '2.8', 'product': 'pepsi'} },    \n",
       "1                                                             {Match 0: {'available': True, 'category': 'menus', 'content': \"[['fire zinger stacker', 1], {'from': 'side dishes', 'choose': 1}, {'from': 'drinks', 'size': 'l'}]\", 'item_id': 'm43', 'keywords': 'zinger, meal, side dish, large drink, fire stacker', 'price': '30', 'product': 'fire zinger stacker meal'} }, {Match 1: {'available': False, 'category': 'sauces', 'content': '{}', 'item_id': 's1', 'keywords': \"{'keywords': 'apple, condiment, sauce, dessert, apple sauce'}\", 'price': '15', 'product': 'apple sauce'} }, {Match 2: {'available': True, 'category': 'menus', 'content': \"[['fire zinger', 1], {'from': 'side dishes', 'choose': 1}, {'from': 'drinks', 'size': 'm'}]\", 'item_id': 'm4', 'keywords': 'burger, meal, side dish, drink, fire zinger', 'price': '30', 'product': 'fire zinger burger meal'} },    \n",
       "2   {Match 0: {'available': True, 'category': 'menus', 'content': \"[['hot wings', 6], {'from': 'side dishes', 'choose': 1}, {'from': 'drinks', 'size': 'l'}]\", 'item_id': 'm15', 'keywords': 'veggie, meal, hot wings, side dishes, large drink', 'price': '30', 'product': '4 veggie tender meal'} }, {Match 1: {'available': False, 'category': 'burgers', 'content': \"{'kcal': 150, 'fat': 100, 'protein': 10, 'itemid': 71, 'allergens': ['']}\", 'item_id': 'b12', 'keywords': \"{'keywords': 'vegetarian, food, burger, plant-based, no meat'}\", 'price': '15', 'product': 'veggie tender'} }, {Match 2: {'available': False, 'category': 'side dishes', 'content': \"{'kcal': 170, 'fat': 10, 'protein': 2, 'itemid': 7, 'allergens': ['dairy']}\", 'item_id': 'sd1', 'keywords': \"{'keywords': 'cabbage, salad, side dish, coleslaw, vegetable'}\", 'price': '1.7', 'product': 'coleslaw'} },    \n",
       "\n",
       "   Weviate_keyword_time  Weviate_keyword_result  \\\n",
       "0             27.162790                       1   \n",
       "1             22.738934                       1   \n",
       "2             27.770042                       1   \n",
       "\n",
       "                                                                                                                                                                                                                                                                                                                                                                                                                                                                                                                                                                                                                                                                                                                                                                                                                                                                         Weviate_hybrid_context  \\\n",
       "0                                                                                                                                                                                    {Match 0: {'available': False, 'category': 'drinks', 'content': \"{'kcal': 170, 'fat': 10, 'protein': 2, 'itemid': 9, 'allergens': ['dairy']}\", 'item_id': 'd2', 'keywords': \"{'keywords': 'soda, beverage, cola, carbonated drink, pepsi'}\", 'price': '2.8', 'product': 'pepsi'} }, {Match 1: {'available': False, 'category': 'drinks', 'content': '{}', 'item_id': 'd12', 'keywords': \"{'keywords': 'soda, drink, citrus, refreshment, sisi'}\", 'price': '15', 'product': 'sisi'} }, {Match 2: {'available': False, 'category': 'drinks', 'content': '{}', 'item_id': 'd13', 'keywords': \"{'keywords': 'soda, drink, soft drink, fernandes, non-alcoholic'}\", 'price': '15', 'product': 'fernandes'} },    \n",
       "1      {Match 0: {'available': False, 'category': 'burgers', 'content': \"{'kcal': 150, 'fat': 100, 'protein': 10, 'itemid': 64, 'allergens': ['']}\", 'item_id': 'b8', 'keywords': \"{'keywords': 'spicy, food, chicken, burger, zinger'}\", 'price': '15', 'product': 'fire zinger stacker'} }, {Match 1: {'available': False, 'category': 'burgers', 'content': \"{'kcal': 100, 'fat': 100, 'protein': 10, 'itemid': 65, 'allergens': ['']}\", 'item_id': 'b9', 'keywords': \"{'keywords': 'spicy, food, chicken, burger, zinger'}\", 'price': '15', 'product': 'fire zinger'} }, {Match 2: {'available': True, 'category': 'menus', 'content': \"[['fire zinger stacker', 1], {'from': 'side dishes', 'choose': 1}, {'from': 'drinks', 'size': 'l'}]\", 'item_id': 'm43', 'keywords': 'zinger, meal, side dish, large drink, fire stacker', 'price': '30', 'product': 'fire zinger stacker meal'} },    \n",
       "2   {Match 0: {'available': True, 'category': 'menus', 'content': \"[['veggie tenders', 4], {'from': 'drinks', 'size': 'l'}, {'from': 'side dishes', 'choose': 1}]\", 'item_id': 'm20', 'keywords': 'veggie, meal, drink, side dish, tenders', 'price': '30', 'product': '4 veggie tender meal'} }, {Match 1: {'available': False, 'category': 'burgers', 'content': \"{'kcal': 150, 'fat': 100, 'protein': 10, 'itemid': 71, 'allergens': ['']}\", 'item_id': 'b12', 'keywords': \"{'keywords': 'vegetarian, food, burger, plant-based, no meat'}\", 'price': '15', 'product': 'veggie tender'} }, {Match 2: {'available': True, 'category': 'menus', 'content': \"[['veggie tenders', 5], {'from': 'side dishes', 'choose': 2}, {'from': 'drinks', 'size': 'l'}]\", 'item_id': 'm19', 'keywords': 'veggie, meal, tenders, side dishes, large drink', 'price': '30', 'product': 'veggie box meal'} },    \n",
       "\n",
       "   Weviate_hybrid_time  Weviate_hybrid_result  \\\n",
       "0           437.011003                      1   \n",
       "1           388.784885                      1   \n",
       "2           341.645002                      1   \n",
       "\n",
       "                                                                                                                                                                                                                                                                                                                                                                                                                                                                                                                                                                                                                                                                        Native_vector_context  \\\n",
       "0                                                                                                           {Match 8: Product: pepsi; Content: {'kcal': 170, 'fat': 10, 'protein': 2, 'itemid': 9, 'allergens': ['dairy']}; Category: drinks;, Price: 2.8 , Available: false, Keywords: {'keywords': 'soda, beverage, cola, carbonated drink, pepsi'}  } {Match 13: Product: guava; Content: {}; Category: drinks;, Price: 15 , Available: false, Keywords: {'keywords': 'guava, fruit, drink, juice, tropical'}  } {Match 16: Product: espresso; Content: {}; Category: drinks;, Price: 15 , Available: false, Keywords: {'keywords': 'coffee, hot drink, caffeine, espresso, beverage'}  }    \n",
       "1  {Match 89: Product: fire zinger stacker meal; Content: [['fire zinger stacker', 1], {'from': 'side dishes', 'choose': 1}, {'from': 'drinks', 'size': 'l'}]; Category: menus;, Price: 30 , Available: true, Keywords:   } {Match 28: Product: fire zinger stacker; Content: {'kcal': 150, 'fat': 100, 'protein': 10, 'itemid': 64, 'allergens': ['']}; Category: burgers;, Price: 15 , Available: false, Keywords: {'keywords': 'spicy, food, chicken, burger, zinger'}  } {Match 50: Product: fire zinger burger meal; Content: [['fire zinger', 1], {'from': 'side dishes', 'choose': 1}, {'from': 'drinks', 'size': 'm'}]; Category: menus;, Price: 30 , Available: true, Keywords:   }    \n",
       "2                    {Match 46: Product: veggie tenders; Content: {'kcal': 150, 'fat': 100, 'protein': 10, 'itemid': 78, 'allergens': ['']}; Category: vegetarian;, Price: 15 , Available: false, Keywords: {'keywords': 'vegetable, food, vegan, tenders, vegetarian'}  } {Match 78: Product: snack box 2 veggie tenders; Content: [['veggie tenders', 2], ['fries', 1]]; Category: menus;, Price: 30 , Available: true, Keywords:   } {Match 32: Product: veggie tender; Content: {'kcal': 150, 'fat': 100, 'protein': 10, 'itemid': 71, 'allergens': ['']}; Category: burgers;, Price: 15 , Available: false, Keywords: {'keywords': 'vegetarian, food, burger, plant-based, no meat'}  }    \n",
       "\n",
       "   Native_vector_time  Native_vector_result  \\\n",
       "0          155.074120                     1   \n",
       "1           49.728155                     1   \n",
       "2           49.252987                     1   \n",
       "\n",
       "                                                                                                                                                                                                                                                                                                                                                                                                                                                                                                                                                                                                                                                                                                                                             Tfidf_context  \\\n",
       "0  {Match 8: Product: pepsi; Content: {'kcal': 170, 'fat': 10, 'protein': 2, 'itemid': 9, 'allergens': ['dairy']}; Category: drinks;, Price: 2.8 , Available: false, Keywords: {'keywords': 'soda, beverage, cola, carbonated drink, pepsi'}  } {Match 30: Product: colonel stacker; Content: {'kcal': 150, 'fat': 100, 'protein': 10, 'itemid': 66, 'allergens': ['']}; Category: burgers;, Price: 15 , Available: false, Keywords: {'keywords': 'chicken, food, burger, stacker, no allergens'}  } {Match 32: Product: veggie tender; Content: {'kcal': 150, 'fat': 100, 'protein': 10, 'itemid': 71, 'allergens': ['']}; Category: burgers;, Price: 15 , Available: false, Keywords: {'keywords': 'vegetarian, food, burger, plant-based, no meat'}  }    \n",
       "1                                                                                                     {Match 89: Product: fire zinger stacker meal; Content: [['fire zinger stacker', 1], {'from': 'side dishes', 'choose': 1}, {'from': 'drinks', 'size': 'l'}]; Category: menus;, Price: 30 , Available: true, Keywords:   } {Match 38: Product: apple sauce; Content: {}; Category: sauces;, Price: 15 , Available: false, Keywords: {'keywords': 'apple, condiment, sauce, dessert, apple sauce'}  } {Match 28: Product: fire zinger stacker; Content: {'kcal': 150, 'fat': 100, 'protein': 10, 'itemid': 64, 'allergens': ['']}; Category: burgers;, Price: 15 , Available: false, Keywords: {'keywords': 'spicy, food, chicken, burger, zinger'}  }    \n",
       "2                                                                                                       {Match 66: Product: 4 veggie tender meal; Content: [['veggie tenders', 4], {'from': 'drinks', 'size': 'l'}, {'from': 'side dishes', 'choose': 1}]; Category: menus;, Price: 30 , Available: true, Keywords:   } {Match 74: Product: veggie boxmeal; Content: [['veggie tender', 5], ['pepsi', 1], {'from': 'side dishes', 'choose': 2}, {'from': 'drinks', 'size': 'l'}]; Category: menus;, Price: 30 , Available: true, Keywords:   } {Match 61: Product: 4 veggie tender meal; Content: [['hot wings', 6], {'from': 'side dishes', 'choose': 1}, {'from': 'drinks', 'size': 'l'}]; Category: menus;, Price: 30 , Available: true, Keywords:   }    \n",
       "\n",
       "   Tfidf_time  Tfidf_result  \\\n",
       "0   36.714077             1   \n",
       "1   37.504911             1   \n",
       "2   36.555052             1   \n",
       "\n",
       "                                                                                                                                                                                                                                                                                                                                                                                                                                                                                                                                                                                                                                                                                                                                                        bm25_context  \\\n",
       "0  {Match 1: Product: pepsi;  Content: {'kcal': 170, 'fat': 10, 'protein': 2, 'itemid': 9, 'allergens': ['dairy']};  Category: drinks;  Keywords: {'keywords': 'soda, beverage, cola, carbonated drink, pepsi'};  Price: 2.8;  Available: false; }, {Match 2: Product: family bucket;  Content: [['hot wings', 12], ['original piece', 4], ['crispy tenders', 6], ['filet bites', 9], ['fries', 4], {'from': 'side dishes', 'choose': 4}];  Category: menus;  Keywords: ;  Price: 30;  Available: true; }, {Match 3: Product: zinger burger;  Content: {'kcal': 451, 'fat': 25, 'protein': 28, 'itemid': 1, 'allergens': ['wheat', 'soy']};  Category: burgers;  Keywords: {'keywords': 'spicy, food, chicken, burger, zinger'};  Price: 4.5;  Available: false; },    \n",
       "1                                                                                                      {Match 1: Product: fire zinger stacker meal;  Content: [['fire zinger stacker', 1], {'from': 'side dishes', 'choose': 1}, {'from': 'drinks', 'size': 'l'}];  Category: menus;  Keywords: ;  Price: 30;  Available: true; }, {Match 2: Product: fire zinger stacker;  Content: {'kcal': 150, 'fat': 100, 'protein': 10, 'itemid': 64, 'allergens': ['']};  Category: burgers;  Keywords: {'keywords': 'spicy, food, chicken, burger, zinger'};  Price: 15;  Available: false; }, {Match 3: Product: apple sauce;  Content: {};  Category: sauces;  Keywords: {'keywords': 'apple, condiment, sauce, dessert, apple sauce'};  Price: 15;  Available: false; },    \n",
       "2                                                                          {Match 1: Product: veggie tender;  Content: {'kcal': 150, 'fat': 100, 'protein': 10, 'itemid': 71, 'allergens': ['']};  Category: burgers;  Keywords: {'keywords': 'vegetarian, food, burger, plant-based, no meat'};  Price: 15;  Available: false; }, {Match 2: Product: 4 veggie tender meal;  Content: [['veggie tenders', 4], {'from': 'drinks', 'size': 'l'}, {'from': 'side dishes', 'choose': 1}];  Category: menus;  Keywords: ;  Price: 30;  Available: true; }, {Match 3: Product: 4 veggie tender meal;  Content: [['hot wings', 6], {'from': 'side dishes', 'choose': 1}, {'from': 'drinks', 'size': 'l'}];  Category: menus;  Keywords: ;  Price: 30;  Available: true; },    \n",
       "\n",
       "   bm25_time  bm25_result  \\\n",
       "0   2.004862            1   \n",
       "1   0.658274            1   \n",
       "2   0.597000            1   \n",
       "\n",
       "                                                                                                                                                                                                                                    Azure_vector_context  \\\n",
       "0           {Match 0: product: pepsi; content: {'kcal': 170, 'fat': 10, 'protein': 2, 'itemid': 9, 'allergens': ['dairy']}; category: drinks, Price: 2.8, Available: false, Keywords: {'keywords': 'soda, beverage, cola, carbonated drink, pepsi'}  },    \n",
       "1                                {Match 0: product: fire zinger stacker meal; content: [['fire zinger stacker', 1], {'from': 'side dishes', 'choose': 1}, {'from': 'drinks', 'size': 'l'}]; category: menus, Price: 30, Available: true, Keywords:   },    \n",
       "2   {Match 0: product: veggie tenders; content: {'kcal': 150, 'fat': 100, 'protein': 10, 'itemid': 78, 'allergens': ['']}; category: vegetarian, Price: 15, Available: false, Keywords: {'keywords': 'vegetable, food, vegan, tenders, vegetarian'}  },    \n",
       "\n",
       "   Azure_vector_time  Azure_vector_result  \\\n",
       "0         561.373949                    1   \n",
       "1         483.728886                    1   \n",
       "2         445.387602                    1   \n",
       "\n",
       "                                                                                                                                                                                                                                                                                                                                                                                                                                                                                                                                                                                                                                                                                              Azure_keyword_context  \\\n",
       "0                                                                                                                                                                                                                                                                                                                                                                                                                                                                      {Match 0: product: pepsi; content: {'kcal': 170, 'fat': 10, 'protein': 2, 'itemid': 9, 'allergens': ['dairy']}; category: drinks, Price: 2.8, Available: false, Keywords: {'keywords': 'soda, beverage, cola, carbonated drink, pepsi'}  },    \n",
       "1                                                                    {Match 0: product: apple sauce; content: {}; category: sauces, Price: 15, Available: false, Keywords: {'keywords': 'apple, condiment, sauce, dessert, apple sauce'}  }, {Match 1: product: fire zinger stacker; content: {'kcal': 150, 'fat': 100, 'protein': 10, 'itemid': 64, 'allergens': ['']}; category: burgers, Price: 15, Available: false, Keywords: {'keywords': 'spicy, food, chicken, burger, zinger'}  }, {Match 2: product: fire zinger stacker meal; content: [['fire zinger stacker', 1], {'from': 'side dishes', 'choose': 1}, {'from': 'drinks', 'size': 'l'}]; category: menus, Price: 30, Available: true, Keywords:   },    \n",
       "2   {Match 0: product: tender chicken; content: {'kcal': 150, 'fat': 100, 'protein': 10, 'itemid': 81, 'allergens': ['']}; category: chicken, Price: 15, Available: false, Keywords: {'keywords': 'poultry, food, chicken, tender, no allergens'}  }, {Match 1: product: veggie; content: {'kcal': 150, 'fat': 100, 'protein': 10, 'itemid': 72, 'allergens': ['']}; category: vegetarian, Price: 15, Available: false, Keywords: {'keywords': 'vegetable, healthy, vegan, plant-based, veggie'}  }, {Match 2: product: 4 veggie tender meal; content: [['veggie tenders', 4], {'from': 'drinks', 'size': 'l'}, {'from': 'side dishes', 'choose': 1}]; category: menus, Price: 30, Available: true, Keywords:   },    \n",
       "\n",
       "   Azure_keyword_time  Azure_keyword_result  \\\n",
       "0          408.878088                     1   \n",
       "1          436.015844                     1   \n",
       "2          416.768074                     1   \n",
       "\n",
       "                                                                                                                                                                                                                                                                                                                                                                                                                                                                                                                                                                                                                                                                                                                                     Azure_hybrid_context  \\\n",
       "0                                                                                                                                                                                                                                                                                                                                                                                                                                                                                                            {Match 0: product: pepsi; content: {'kcal': 170, 'fat': 10, 'protein': 2, 'itemid': 9, 'allergens': ['dairy']}; category: drinks, Price: 2.8, Available: false, Keywords: {'keywords': 'soda, beverage, cola, carbonated drink, pepsi'}  },    \n",
       "1                                                                                                          {Match 0: product: fire zinger stacker meal; content: [['fire zinger stacker', 1], {'from': 'side dishes', 'choose': 1}, {'from': 'drinks', 'size': 'l'}]; category: menus, Price: 30, Available: true, Keywords:   }, {Match 1: product: apple sauce; content: {}; category: sauces, Price: 15, Available: false, Keywords: {'keywords': 'apple, condiment, sauce, dessert, apple sauce'}  }, {Match 2: product: fire zinger stacker; content: {'kcal': 150, 'fat': 100, 'protein': 10, 'itemid': 64, 'allergens': ['']}; category: burgers, Price: 15, Available: false, Keywords: {'keywords': 'spicy, food, chicken, burger, zinger'}  },    \n",
       "2   {Match 0: product: veggie tenders; content: {'kcal': 150, 'fat': 100, 'protein': 10, 'itemid': 78, 'allergens': ['']}; category: vegetarian, Price: 15, Available: false, Keywords: {'keywords': 'vegetable, food, vegan, tenders, vegetarian'}  }, {Match 1: product: tender chicken; content: {'kcal': 150, 'fat': 100, 'protein': 10, 'itemid': 81, 'allergens': ['']}; category: chicken, Price: 15, Available: false, Keywords: {'keywords': 'poultry, food, chicken, tender, no allergens'}  }, {Match 2: product: veggie; content: {'kcal': 150, 'fat': 100, 'protein': 10, 'itemid': 72, 'allergens': ['']}; category: vegetarian, Price: 15, Available: false, Keywords: {'keywords': 'vegetable, healthy, vegan, plant-based, veggie'}  },    \n",
       "\n",
       "   Azure_hybrid_time  Azure_hybrid_result  \\\n",
       "0         475.938797                    1   \n",
       "1         448.989868                    1   \n",
       "2         456.149101                    1   \n",
       "\n",
       "                                                                                                                                                                                                                                                                                                                                                                                                                                                                                                                                                                                                                                                                                                                                        Random_context  \\\n",
       "0  {Match 60: Product: variety box meal; Content: [['hot wings', 3], ['original piece', 1], ['crispy tenders', 2], {'from': 'drinks', 'size': 'l'}, {'from': 'side dishes', 'choose': 2}]; Category: menus;, Price: 30 , Available: true, Keywords:   } {Match 86: Product: family bucket; Content: [['hot wings', 12], ['original piece', 4], ['crispy tenders', 6], ['filet bites', 9], ['fries', 4], {'from': 'side dishes', 'choose': 4}]; Category: menus;, Price: 30 , Available: true, Keywords:   } {Match 44: Product: ice cream; Content: {'kcal': 150, 'fat': 100, 'protein': 10, 'itemid': 95, 'allergens': ['']}; Category: desserts;, Price: 15 , Available: false, Keywords: {'keywords': 'sweet, dessert, cold, ice cream, treat'}  }    \n",
       "1                                                                           {Match 33: Product: filet bites; Content: {'kcal': 150, 'fat': 100, 'protein': 10, 'itemid': 68, 'allergens': ['']}; Category: burgers;, Price: 15 , Available: false, Keywords: {'keywords': 'beef, food, burger, meat, bite-sized'}  } {Match 89: Product: fire zinger stacker meal; Content: [['fire zinger stacker', 1], {'from': 'side dishes', 'choose': 1}, {'from': 'drinks', 'size': 'l'}]; Category: menus;, Price: 30 , Available: true, Keywords:   } {Match 64: Product: twister meal; Content: [['crispy tenders', 2], {'from': 'side dishes', 'choose': 1}, {'from': 'drinks', 'size': 'l'}]; Category: menus;, Price: 30 , Available: true, Keywords:   }    \n",
       "2                                                                                                              {Match 50: Product: fire zinger burger meal; Content: [['fire zinger', 1], {'from': 'side dishes', 'choose': 1}, {'from': 'drinks', 'size': 'm'}]; Category: menus;, Price: 30 , Available: true, Keywords:   } {Match 61: Product: 4 veggie tender meal; Content: [['hot wings', 6], {'from': 'side dishes', 'choose': 1}, {'from': 'drinks', 'size': 'l'}]; Category: menus;, Price: 30 , Available: true, Keywords:   } {Match 88: Product: veggie kids meal; Content: [['veggie tenders', 2], {'from': 'side dishes', 'choose': 1}, {'from': 'drinks', 'size': 'l'}]; Category: menus;, Price: 30 , Available: true, Keywords:   }    \n",
       "\n",
       "   Random_time  Random_result  \n",
       "0    36.532879              0  \n",
       "1    36.245108              1  \n",
       "2    35.035133              1  "
      ]
     },
     "execution_count": 10,
     "metadata": {},
     "output_type": "execute_result"
    }
   ],
   "source": [
    "#Display the DF with the results\n",
    "pd.set_option('display.max_colwidth', None)\n",
    "pd.set_option('display.max_columns', None)\n",
    "pd.set_option('display.max_rows', None)\n",
    "df.head(3)"
   ]
  },
  {
   "cell_type": "code",
   "execution_count": 11,
   "metadata": {},
   "outputs": [
    {
     "name": "stdout",
     "output_type": "stream",
     "text": [
      "Faiss_retrieve_vector  Avg Time:  17.373289380754745 Avg Result:  0.5714285714285714\n",
      "Qdrant_retrieve_vector  Avg Time:  165.34764426095145 Avg Result:  0.7142857142857143\n",
      "Weviate_retrieve_vector  Avg Time:  417.3260075705392 Avg Result:  0.5714285714285714\n",
      "Weviate_retrieve_keyword  Avg Time:  27.139527457101003 Avg Result:  0.5714285714285714\n",
      "Weviate_retrieve_hybrid  Avg Time:  387.44265692574635 Avg Result:  0.5714285714285714\n",
      "Native_retrieve_vector  Avg Time:  64.38820702689034 Avg Result:  0.5714285714285714\n",
      "Tfidf_retrieve_keyword  Avg Time:  38.03965023585728 Avg Result:  0.5714285714285714\n",
      "bm25_retrieve_keyword  Avg Time:  0.7999965122767857 Avg Result:  0.5714285714285714\n",
      "Azure_retrieve_vector  Avg Time:  468.494176864624 Avg Result:  0.5714285714285714\n",
      "Azure_retrieve_keyword  Avg Time:  427.03962326049805 Avg Result:  0.5714285714285714\n",
      "Azure_retrieve_hybrid  Avg Time:  457.8538281576974 Avg Result:  0.5714285714285714\n",
      "Random_retrieve  Avg Time:  36.07174328395298 Avg Result:  0.2857142857142857\n"
     ]
    }
   ],
   "source": [
    "# Print the results\n",
    "print('Faiss_retrieve_vector ', 'Avg Time: ' , df['Faiss_time'].mean(), 'Avg Result: ', df['Faiss_result'].mean())\n",
    "print('Qdrant_retrieve_vector ', 'Avg Time: ' , df['Qdrant_time'].mean(), 'Avg Result: ', df['Qdrant_result'].mean())\n",
    "print('Weviate_retrieve_vector ', 'Avg Time: ' , df['Weviate_vector_time'].mean(), 'Avg Result: ', df['Weviate_vector_result'].mean())\n",
    "print('Weviate_retrieve_keyword ', 'Avg Time: ' , df['Weviate_keyword_time'].mean(), 'Avg Result: ', df['Weviate_keyword_result'].mean())\n",
    "print('Weviate_retrieve_hybrid ', 'Avg Time: ' , df['Weviate_hybrid_time'].mean(), 'Avg Result: ', df['Weviate_hybrid_result'].mean())\n",
    "print('Native_retrieve_vector ', 'Avg Time: ' , df['Native_vector_time'].mean(), 'Avg Result: ', df['Native_vector_result'].mean())\n",
    "print('Tfidf_retrieve_keyword ', 'Avg Time: ' , df['Tfidf_time'].mean(), 'Avg Result: ', df['Tfidf_result'].mean())\n",
    "print('bm25_retrieve_keyword ', 'Avg Time: ' , df['bm25_time'].mean(), 'Avg Result: ', df['bm25_result'].mean())\n",
    "print('Azure_retrieve_vector ', 'Avg Time: ' , df['Azure_vector_time'].mean(), 'Avg Result: ', df['Azure_vector_result'].mean())\n",
    "print('Azure_retrieve_keyword ', 'Avg Time: ' , df['Azure_keyword_time'].mean(), 'Avg Result: ', df['Azure_keyword_result'].mean())\n",
    "print('Azure_retrieve_hybrid ', 'Avg Time: ' , df['Azure_hybrid_time'].mean(), 'Avg Result: ', df['Azure_hybrid_result'].mean())\n",
    "print('Random_retrieve ', 'Avg Time: ' , df['Random_time'].mean(), 'Avg Result: ', df['Random_result'].mean())\n",
    "\n"
   ]
  },
  {
   "cell_type": "code",
   "execution_count": 12,
   "metadata": {},
   "outputs": [
    {
     "data": {
      "application/vnd.plotly.v1+json": {
       "config": {
        "plotlyServerURL": "https://plot.ly"
       },
       "data": [
        {
         "hovertemplate": "Method_Type=Vector<br>Method=Faiss<br>Average Time (milliseconds)=%{x}<br>Average Result=%{y}<extra></extra>",
         "legendgroup": "Vector, Faiss",
         "marker": {
          "color": "#636efa",
          "symbol": "circle"
         },
         "mode": "markers",
         "name": "Vector, Faiss",
         "orientation": "v",
         "showlegend": true,
         "type": "scatter",
         "x": [
          17.373289380754745
         ],
         "xaxis": "x",
         "y": [
          0.5714285714285714
         ],
         "yaxis": "y"
        },
        {
         "hovertemplate": "Method_Type=Vector<br>Method=Qdrant<br>Average Time (milliseconds)=%{x}<br>Average Result=%{y}<extra></extra>",
         "legendgroup": "Vector, Qdrant",
         "marker": {
          "color": "#636efa",
          "symbol": "diamond"
         },
         "mode": "markers",
         "name": "Vector, Qdrant",
         "orientation": "v",
         "showlegend": true,
         "type": "scatter",
         "x": [
          165.34764426095145
         ],
         "xaxis": "x",
         "y": [
          0.7142857142857143
         ],
         "yaxis": "y"
        },
        {
         "hovertemplate": "Method_Type=Vector<br>Method=Weviate_vector<br>Average Time (milliseconds)=%{x}<br>Average Result=%{y}<extra></extra>",
         "legendgroup": "Vector, Weviate_vector",
         "marker": {
          "color": "#636efa",
          "symbol": "square"
         },
         "mode": "markers",
         "name": "Vector, Weviate_vector",
         "orientation": "v",
         "showlegend": true,
         "type": "scatter",
         "x": [
          417.3260075705392
         ],
         "xaxis": "x",
         "y": [
          0.5714285714285714
         ],
         "yaxis": "y"
        },
        {
         "hovertemplate": "Method_Type=Vector<br>Method=Native_vector<br>Average Time (milliseconds)=%{x}<br>Average Result=%{y}<extra></extra>",
         "legendgroup": "Vector, Native_vector",
         "marker": {
          "color": "#636efa",
          "symbol": "circle"
         },
         "mode": "markers",
         "name": "Vector, Native_vector",
         "orientation": "v",
         "showlegend": true,
         "type": "scatter",
         "x": [
          64.38820702689034
         ],
         "xaxis": "x",
         "y": [
          0.5714285714285714
         ],
         "yaxis": "y"
        },
        {
         "hovertemplate": "Method_Type=Vector<br>Method=Azure_vector<br>Average Time (milliseconds)=%{x}<br>Average Result=%{y}<extra></extra>",
         "legendgroup": "Vector, Azure_vector",
         "marker": {
          "color": "#636efa",
          "symbol": "x"
         },
         "mode": "markers",
         "name": "Vector, Azure_vector",
         "orientation": "v",
         "showlegend": true,
         "type": "scatter",
         "x": [
          468.494176864624
         ],
         "xaxis": "x",
         "y": [
          0.5714285714285714
         ],
         "yaxis": "y"
        },
        {
         "hovertemplate": "Method_Type=Keyword<br>Method=Weviate_keyword<br>Average Time (milliseconds)=%{x}<br>Average Result=%{y}<extra></extra>",
         "legendgroup": "Keyword, Weviate_keyword",
         "marker": {
          "color": "#EF553B",
          "symbol": "x"
         },
         "mode": "markers",
         "name": "Keyword, Weviate_keyword",
         "orientation": "v",
         "showlegend": true,
         "type": "scatter",
         "x": [
          27.139527457101003
         ],
         "xaxis": "x",
         "y": [
          0.5714285714285714
         ],
         "yaxis": "y"
        },
        {
         "hovertemplate": "Method_Type=Keyword<br>Method=Tfidf_keyword<br>Average Time (milliseconds)=%{x}<br>Average Result=%{y}<extra></extra>",
         "legendgroup": "Keyword, Tfidf_keyword",
         "marker": {
          "color": "#EF553B",
          "symbol": "diamond"
         },
         "mode": "markers",
         "name": "Keyword, Tfidf_keyword",
         "orientation": "v",
         "showlegend": true,
         "type": "scatter",
         "x": [
          38.03965023585728
         ],
         "xaxis": "x",
         "y": [
          0.5714285714285714
         ],
         "yaxis": "y"
        },
        {
         "hovertemplate": "Method_Type=Keyword<br>Method=bm25_keyword<br>Average Time (milliseconds)=%{x}<br>Average Result=%{y}<extra></extra>",
         "legendgroup": "Keyword, bm25_keyword",
         "marker": {
          "color": "#EF553B",
          "symbol": "square"
         },
         "mode": "markers",
         "name": "Keyword, bm25_keyword",
         "orientation": "v",
         "showlegend": true,
         "type": "scatter",
         "x": [
          0.7999965122767857
         ],
         "xaxis": "x",
         "y": [
          0.5714285714285714
         ],
         "yaxis": "y"
        },
        {
         "hovertemplate": "Method_Type=Keyword<br>Method=Azure_keyword<br>Average Time (milliseconds)=%{x}<br>Average Result=%{y}<extra></extra>",
         "legendgroup": "Keyword, Azure_keyword",
         "marker": {
          "color": "#EF553B",
          "symbol": "cross"
         },
         "mode": "markers",
         "name": "Keyword, Azure_keyword",
         "orientation": "v",
         "showlegend": true,
         "type": "scatter",
         "x": [
          427.03962326049805
         ],
         "xaxis": "x",
         "y": [
          0.5714285714285714
         ],
         "yaxis": "y"
        },
        {
         "hovertemplate": "Method_Type=Hybrid<br>Method=Weviate_hybrid<br>Average Time (milliseconds)=%{x}<br>Average Result=%{y}<extra></extra>",
         "legendgroup": "Hybrid, Weviate_hybrid",
         "marker": {
          "color": "#00cc96",
          "symbol": "cross"
         },
         "mode": "markers",
         "name": "Hybrid, Weviate_hybrid",
         "orientation": "v",
         "showlegend": true,
         "type": "scatter",
         "x": [
          387.44265692574635
         ],
         "xaxis": "x",
         "y": [
          0.5714285714285714
         ],
         "yaxis": "y"
        },
        {
         "hovertemplate": "Method_Type=Hybrid<br>Method=Azure_hybrid<br>Average Time (milliseconds)=%{x}<br>Average Result=%{y}<extra></extra>",
         "legendgroup": "Hybrid, Azure_hybrid",
         "marker": {
          "color": "#00cc96",
          "symbol": "circle"
         },
         "mode": "markers",
         "name": "Hybrid, Azure_hybrid",
         "orientation": "v",
         "showlegend": true,
         "type": "scatter",
         "x": [
          457.8538281576974
         ],
         "xaxis": "x",
         "y": [
          0.5714285714285714
         ],
         "yaxis": "y"
        },
        {
         "hovertemplate": "Method_Type=Random<br>Method=Random (Reference)<br>Average Time (milliseconds)=%{x}<br>Average Result=%{y}<extra></extra>",
         "legendgroup": "Random, Random (Reference)",
         "marker": {
          "color": "#ab63fa",
          "symbol": "diamond"
         },
         "mode": "markers",
         "name": "Random, Random (Reference)",
         "orientation": "v",
         "showlegend": true,
         "type": "scatter",
         "x": [
          36.07174328395298
         ],
         "xaxis": "x",
         "y": [
          0.2857142857142857
         ],
         "yaxis": "y"
        }
       ],
       "layout": {
        "legend": {
         "title": {
          "text": "Method_Type, Method"
         },
         "tracegroupgap": 0
        },
        "shapes": [
         {
          "line": {
           "color": "red",
           "dash": "dash"
          },
          "type": "line",
          "x0": 50,
          "x1": 50,
          "y0": 0.1857142857142857,
          "y1": 0.8142857142857143
         }
        ],
        "template": {
         "data": {
          "bar": [
           {
            "error_x": {
             "color": "#2a3f5f"
            },
            "error_y": {
             "color": "#2a3f5f"
            },
            "marker": {
             "line": {
              "color": "#E5ECF6",
              "width": 0.5
             },
             "pattern": {
              "fillmode": "overlay",
              "size": 10,
              "solidity": 0.2
             }
            },
            "type": "bar"
           }
          ],
          "barpolar": [
           {
            "marker": {
             "line": {
              "color": "#E5ECF6",
              "width": 0.5
             },
             "pattern": {
              "fillmode": "overlay",
              "size": 10,
              "solidity": 0.2
             }
            },
            "type": "barpolar"
           }
          ],
          "carpet": [
           {
            "aaxis": {
             "endlinecolor": "#2a3f5f",
             "gridcolor": "white",
             "linecolor": "white",
             "minorgridcolor": "white",
             "startlinecolor": "#2a3f5f"
            },
            "baxis": {
             "endlinecolor": "#2a3f5f",
             "gridcolor": "white",
             "linecolor": "white",
             "minorgridcolor": "white",
             "startlinecolor": "#2a3f5f"
            },
            "type": "carpet"
           }
          ],
          "choropleth": [
           {
            "colorbar": {
             "outlinewidth": 0,
             "ticks": ""
            },
            "type": "choropleth"
           }
          ],
          "contour": [
           {
            "colorbar": {
             "outlinewidth": 0,
             "ticks": ""
            },
            "colorscale": [
             [
              0,
              "#0d0887"
             ],
             [
              0.1111111111111111,
              "#46039f"
             ],
             [
              0.2222222222222222,
              "#7201a8"
             ],
             [
              0.3333333333333333,
              "#9c179e"
             ],
             [
              0.4444444444444444,
              "#bd3786"
             ],
             [
              0.5555555555555556,
              "#d8576b"
             ],
             [
              0.6666666666666666,
              "#ed7953"
             ],
             [
              0.7777777777777778,
              "#fb9f3a"
             ],
             [
              0.8888888888888888,
              "#fdca26"
             ],
             [
              1,
              "#f0f921"
             ]
            ],
            "type": "contour"
           }
          ],
          "contourcarpet": [
           {
            "colorbar": {
             "outlinewidth": 0,
             "ticks": ""
            },
            "type": "contourcarpet"
           }
          ],
          "heatmap": [
           {
            "colorbar": {
             "outlinewidth": 0,
             "ticks": ""
            },
            "colorscale": [
             [
              0,
              "#0d0887"
             ],
             [
              0.1111111111111111,
              "#46039f"
             ],
             [
              0.2222222222222222,
              "#7201a8"
             ],
             [
              0.3333333333333333,
              "#9c179e"
             ],
             [
              0.4444444444444444,
              "#bd3786"
             ],
             [
              0.5555555555555556,
              "#d8576b"
             ],
             [
              0.6666666666666666,
              "#ed7953"
             ],
             [
              0.7777777777777778,
              "#fb9f3a"
             ],
             [
              0.8888888888888888,
              "#fdca26"
             ],
             [
              1,
              "#f0f921"
             ]
            ],
            "type": "heatmap"
           }
          ],
          "heatmapgl": [
           {
            "colorbar": {
             "outlinewidth": 0,
             "ticks": ""
            },
            "colorscale": [
             [
              0,
              "#0d0887"
             ],
             [
              0.1111111111111111,
              "#46039f"
             ],
             [
              0.2222222222222222,
              "#7201a8"
             ],
             [
              0.3333333333333333,
              "#9c179e"
             ],
             [
              0.4444444444444444,
              "#bd3786"
             ],
             [
              0.5555555555555556,
              "#d8576b"
             ],
             [
              0.6666666666666666,
              "#ed7953"
             ],
             [
              0.7777777777777778,
              "#fb9f3a"
             ],
             [
              0.8888888888888888,
              "#fdca26"
             ],
             [
              1,
              "#f0f921"
             ]
            ],
            "type": "heatmapgl"
           }
          ],
          "histogram": [
           {
            "marker": {
             "pattern": {
              "fillmode": "overlay",
              "size": 10,
              "solidity": 0.2
             }
            },
            "type": "histogram"
           }
          ],
          "histogram2d": [
           {
            "colorbar": {
             "outlinewidth": 0,
             "ticks": ""
            },
            "colorscale": [
             [
              0,
              "#0d0887"
             ],
             [
              0.1111111111111111,
              "#46039f"
             ],
             [
              0.2222222222222222,
              "#7201a8"
             ],
             [
              0.3333333333333333,
              "#9c179e"
             ],
             [
              0.4444444444444444,
              "#bd3786"
             ],
             [
              0.5555555555555556,
              "#d8576b"
             ],
             [
              0.6666666666666666,
              "#ed7953"
             ],
             [
              0.7777777777777778,
              "#fb9f3a"
             ],
             [
              0.8888888888888888,
              "#fdca26"
             ],
             [
              1,
              "#f0f921"
             ]
            ],
            "type": "histogram2d"
           }
          ],
          "histogram2dcontour": [
           {
            "colorbar": {
             "outlinewidth": 0,
             "ticks": ""
            },
            "colorscale": [
             [
              0,
              "#0d0887"
             ],
             [
              0.1111111111111111,
              "#46039f"
             ],
             [
              0.2222222222222222,
              "#7201a8"
             ],
             [
              0.3333333333333333,
              "#9c179e"
             ],
             [
              0.4444444444444444,
              "#bd3786"
             ],
             [
              0.5555555555555556,
              "#d8576b"
             ],
             [
              0.6666666666666666,
              "#ed7953"
             ],
             [
              0.7777777777777778,
              "#fb9f3a"
             ],
             [
              0.8888888888888888,
              "#fdca26"
             ],
             [
              1,
              "#f0f921"
             ]
            ],
            "type": "histogram2dcontour"
           }
          ],
          "mesh3d": [
           {
            "colorbar": {
             "outlinewidth": 0,
             "ticks": ""
            },
            "type": "mesh3d"
           }
          ],
          "parcoords": [
           {
            "line": {
             "colorbar": {
              "outlinewidth": 0,
              "ticks": ""
             }
            },
            "type": "parcoords"
           }
          ],
          "pie": [
           {
            "automargin": true,
            "type": "pie"
           }
          ],
          "scatter": [
           {
            "fillpattern": {
             "fillmode": "overlay",
             "size": 10,
             "solidity": 0.2
            },
            "type": "scatter"
           }
          ],
          "scatter3d": [
           {
            "line": {
             "colorbar": {
              "outlinewidth": 0,
              "ticks": ""
             }
            },
            "marker": {
             "colorbar": {
              "outlinewidth": 0,
              "ticks": ""
             }
            },
            "type": "scatter3d"
           }
          ],
          "scattercarpet": [
           {
            "marker": {
             "colorbar": {
              "outlinewidth": 0,
              "ticks": ""
             }
            },
            "type": "scattercarpet"
           }
          ],
          "scattergeo": [
           {
            "marker": {
             "colorbar": {
              "outlinewidth": 0,
              "ticks": ""
             }
            },
            "type": "scattergeo"
           }
          ],
          "scattergl": [
           {
            "marker": {
             "colorbar": {
              "outlinewidth": 0,
              "ticks": ""
             }
            },
            "type": "scattergl"
           }
          ],
          "scattermapbox": [
           {
            "marker": {
             "colorbar": {
              "outlinewidth": 0,
              "ticks": ""
             }
            },
            "type": "scattermapbox"
           }
          ],
          "scatterpolar": [
           {
            "marker": {
             "colorbar": {
              "outlinewidth": 0,
              "ticks": ""
             }
            },
            "type": "scatterpolar"
           }
          ],
          "scatterpolargl": [
           {
            "marker": {
             "colorbar": {
              "outlinewidth": 0,
              "ticks": ""
             }
            },
            "type": "scatterpolargl"
           }
          ],
          "scatterternary": [
           {
            "marker": {
             "colorbar": {
              "outlinewidth": 0,
              "ticks": ""
             }
            },
            "type": "scatterternary"
           }
          ],
          "surface": [
           {
            "colorbar": {
             "outlinewidth": 0,
             "ticks": ""
            },
            "colorscale": [
             [
              0,
              "#0d0887"
             ],
             [
              0.1111111111111111,
              "#46039f"
             ],
             [
              0.2222222222222222,
              "#7201a8"
             ],
             [
              0.3333333333333333,
              "#9c179e"
             ],
             [
              0.4444444444444444,
              "#bd3786"
             ],
             [
              0.5555555555555556,
              "#d8576b"
             ],
             [
              0.6666666666666666,
              "#ed7953"
             ],
             [
              0.7777777777777778,
              "#fb9f3a"
             ],
             [
              0.8888888888888888,
              "#fdca26"
             ],
             [
              1,
              "#f0f921"
             ]
            ],
            "type": "surface"
           }
          ],
          "table": [
           {
            "cells": {
             "fill": {
              "color": "#EBF0F8"
             },
             "line": {
              "color": "white"
             }
            },
            "header": {
             "fill": {
              "color": "#C8D4E3"
             },
             "line": {
              "color": "white"
             }
            },
            "type": "table"
           }
          ]
         },
         "layout": {
          "annotationdefaults": {
           "arrowcolor": "#2a3f5f",
           "arrowhead": 0,
           "arrowwidth": 1
          },
          "autotypenumbers": "strict",
          "coloraxis": {
           "colorbar": {
            "outlinewidth": 0,
            "ticks": ""
           }
          },
          "colorscale": {
           "diverging": [
            [
             0,
             "#8e0152"
            ],
            [
             0.1,
             "#c51b7d"
            ],
            [
             0.2,
             "#de77ae"
            ],
            [
             0.3,
             "#f1b6da"
            ],
            [
             0.4,
             "#fde0ef"
            ],
            [
             0.5,
             "#f7f7f7"
            ],
            [
             0.6,
             "#e6f5d0"
            ],
            [
             0.7,
             "#b8e186"
            ],
            [
             0.8,
             "#7fbc41"
            ],
            [
             0.9,
             "#4d9221"
            ],
            [
             1,
             "#276419"
            ]
           ],
           "sequential": [
            [
             0,
             "#0d0887"
            ],
            [
             0.1111111111111111,
             "#46039f"
            ],
            [
             0.2222222222222222,
             "#7201a8"
            ],
            [
             0.3333333333333333,
             "#9c179e"
            ],
            [
             0.4444444444444444,
             "#bd3786"
            ],
            [
             0.5555555555555556,
             "#d8576b"
            ],
            [
             0.6666666666666666,
             "#ed7953"
            ],
            [
             0.7777777777777778,
             "#fb9f3a"
            ],
            [
             0.8888888888888888,
             "#fdca26"
            ],
            [
             1,
             "#f0f921"
            ]
           ],
           "sequentialminus": [
            [
             0,
             "#0d0887"
            ],
            [
             0.1111111111111111,
             "#46039f"
            ],
            [
             0.2222222222222222,
             "#7201a8"
            ],
            [
             0.3333333333333333,
             "#9c179e"
            ],
            [
             0.4444444444444444,
             "#bd3786"
            ],
            [
             0.5555555555555556,
             "#d8576b"
            ],
            [
             0.6666666666666666,
             "#ed7953"
            ],
            [
             0.7777777777777778,
             "#fb9f3a"
            ],
            [
             0.8888888888888888,
             "#fdca26"
            ],
            [
             1,
             "#f0f921"
            ]
           ]
          },
          "colorway": [
           "#636efa",
           "#EF553B",
           "#00cc96",
           "#ab63fa",
           "#FFA15A",
           "#19d3f3",
           "#FF6692",
           "#B6E880",
           "#FF97FF",
           "#FECB52"
          ],
          "font": {
           "color": "#2a3f5f"
          },
          "geo": {
           "bgcolor": "white",
           "lakecolor": "white",
           "landcolor": "#E5ECF6",
           "showlakes": true,
           "showland": true,
           "subunitcolor": "white"
          },
          "hoverlabel": {
           "align": "left"
          },
          "hovermode": "closest",
          "mapbox": {
           "style": "light"
          },
          "paper_bgcolor": "white",
          "plot_bgcolor": "#E5ECF6",
          "polar": {
           "angularaxis": {
            "gridcolor": "white",
            "linecolor": "white",
            "ticks": ""
           },
           "bgcolor": "#E5ECF6",
           "radialaxis": {
            "gridcolor": "white",
            "linecolor": "white",
            "ticks": ""
           }
          },
          "scene": {
           "xaxis": {
            "backgroundcolor": "#E5ECF6",
            "gridcolor": "white",
            "gridwidth": 2,
            "linecolor": "white",
            "showbackground": true,
            "ticks": "",
            "zerolinecolor": "white"
           },
           "yaxis": {
            "backgroundcolor": "#E5ECF6",
            "gridcolor": "white",
            "gridwidth": 2,
            "linecolor": "white",
            "showbackground": true,
            "ticks": "",
            "zerolinecolor": "white"
           },
           "zaxis": {
            "backgroundcolor": "#E5ECF6",
            "gridcolor": "white",
            "gridwidth": 2,
            "linecolor": "white",
            "showbackground": true,
            "ticks": "",
            "zerolinecolor": "white"
           }
          },
          "shapedefaults": {
           "line": {
            "color": "#2a3f5f"
           }
          },
          "ternary": {
           "aaxis": {
            "gridcolor": "white",
            "linecolor": "white",
            "ticks": ""
           },
           "baxis": {
            "gridcolor": "white",
            "linecolor": "white",
            "ticks": ""
           },
           "bgcolor": "#E5ECF6",
           "caxis": {
            "gridcolor": "white",
            "linecolor": "white",
            "ticks": ""
           }
          },
          "title": {
           "x": 0.05
          },
          "xaxis": {
           "automargin": true,
           "gridcolor": "white",
           "linecolor": "white",
           "ticks": "",
           "title": {
            "standoff": 15
           },
           "zerolinecolor": "white",
           "zerolinewidth": 2
          },
          "yaxis": {
           "automargin": true,
           "gridcolor": "white",
           "linecolor": "white",
           "ticks": "",
           "title": {
            "standoff": 15
           },
           "zerolinecolor": "white",
           "zerolinewidth": 2
          }
         }
        },
        "title": {
         "text": "Average Time vs Average Result by Method Type"
        },
        "xaxis": {
         "anchor": "y",
         "domain": [
          0,
          1
         ],
         "title": {
          "text": "Average Time (milliseconds)"
         }
        },
        "yaxis": {
         "anchor": "x",
         "domain": [
          0,
          1
         ],
         "title": {
          "text": "Average Result"
         }
        }
       }
      }
     },
     "metadata": {},
     "output_type": "display_data"
    }
   ],
   "source": [
    "#Visualize the results\n",
    "import plotly.express as px\n",
    "import plotly.graph_objects as go\n",
    "import pandas as pd\n",
    "\n",
    "avg_df = pd.DataFrame({\n",
    "    'Method': ['Faiss', 'Qdrant', 'Weviate_vector', 'Weviate_keyword', 'Weviate_hybrid',\n",
    "               'Native_vector', 'Tfidf_keyword', 'bm25_keyword', 'Azure_vector', 'Azure_keyword', 'Azure_hybrid', 'Random (Reference)'],\n",
    "    'Avg_Time': [df['Faiss_time'].mean(), df['Qdrant_time'].mean(), df['Weviate_vector_time'].mean(),\n",
    "                 df['Weviate_keyword_time'].mean(), df['Weviate_hybrid_time'].mean(), df['Native_vector_time'].mean(),\n",
    "                 df['Tfidf_time'].mean(), df['bm25_time'].mean(), df['Azure_vector_time'].mean(),\n",
    "                 df['Azure_keyword_time'].mean(), df['Azure_hybrid_time'].mean(), df['Random_time'].mean()],\n",
    "    'Avg_Result': [df['Faiss_result'].mean(), df['Qdrant_result'].mean(), df['Weviate_vector_result'].mean(),\n",
    "                   df['Weviate_keyword_result'].mean(), df['Weviate_hybrid_result'].mean(), df['Native_vector_result'].mean(),\n",
    "                   df['Tfidf_result'].mean(), df['bm25_result'].mean(), df['Azure_vector_result'].mean(),\n",
    "                   df['Azure_keyword_result'].mean(), df['Azure_hybrid_result'].mean(), df['Random_result'].mean()],\n",
    "    'Method_Type': ['Vector', 'Vector', 'Vector', 'Keyword', 'Hybrid', 'Vector', 'Keyword', 'Keyword', 'Vector', 'Keyword', 'Hybrid', 'Random']\n",
    "})\n",
    "\n",
    "# Plot using Plotly Express\n",
    "fig = px.scatter(avg_df, x='Avg_Time', y='Avg_Result', color='Method_Type', symbol='Method',\n",
    "                 labels={'Avg_Time': 'Average Time (milliseconds)', 'Avg_Result': 'Average Result'},\n",
    "                 title='Average Time vs Average Result by Method Type')\n",
    "\n",
    "# Add red vertical dashed line at 50 milliseconds\n",
    "fig.add_shape(\n",
    "    go.layout.Shape(\n",
    "        type=\"line\",\n",
    "        x0=50,\n",
    "        x1=50,\n",
    "        y0=avg_df['Avg_Result'].min() - 0.1, \n",
    "        y1=avg_df['Avg_Result'].max() + 0.1,  \n",
    "        line=dict(color=\"red\", dash=\"dash\")\n",
    "    )\n",
    ")\n",
    "# Show the plot\n",
    "fig.show()\n"
   ]
  },
  {
   "cell_type": "markdown",
   "metadata": {},
   "source": [
    "# Conclusions\n",
    "\n",
    "\n",
    "- Local implementation of BM25 (Keyword search) is the fastest retrieval method with an average proccessing time of 0.79 ms, while performance is acceptable compared to other retrieval methods. There are approaches to host .pkl files to scale this approach if required.\n",
    "\n",
    "- Weaviate Keyword search is the cloud based fastest retriever with an average of 27.14 ms for retrieval, this approach can be scaled up easier and have an acceptable performance\n",
    "\n",
    "- Faiss and my native implementation of vector search using Sentence Transformers are the fastest vector based retrievals, however performance for this use case is the same for keyword and vector based approach\n",
    "\n",
    "- The preliminary dataset enrichment with keywords and product dictionaries was a key factor to equal the performance between keyword search and vector search\n",
    "\n",
    "# Next steps:\n",
    "\n",
    "- Validate the performance of the selected tool with real human labeling and stake-holders\n",
    "\n",
    "\n"
   ]
  },
  {
   "cell_type": "markdown",
   "metadata": {},
   "source": []
  }
 ],
 "metadata": {
  "kernelspec": {
   "display_name": "Python 3",
   "language": "python",
   "name": "python3"
  },
  "language_info": {
   "codemirror_mode": {
    "name": "ipython",
    "version": 3
   },
   "file_extension": ".py",
   "mimetype": "text/x-python",
   "name": "python",
   "nbconvert_exporter": "python",
   "pygments_lexer": "ipython3",
   "version": "3.10.12"
  }
 },
 "nbformat": 4,
 "nbformat_minor": 2
}
